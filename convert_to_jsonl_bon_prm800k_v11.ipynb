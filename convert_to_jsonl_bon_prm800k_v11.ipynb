{
 "cells": [
  {
   "cell_type": "code",
   "execution_count": 1,
   "id": "67f5342f-19ab-4749-8ed0-85f7b999b95d",
   "metadata": {},
   "outputs": [],
   "source": [
    "import os, psutil, gc\n",
    "import time \n",
    "import json\n",
    "import pprint\n",
    "\n",
    "from collections import defaultdict\n",
    "import random\n",
    "import numpy as np"
   ]
  },
  {
   "cell_type": "code",
   "execution_count": 2,
   "id": "b02cf7ef-318d-4d71-a357-78376eee49a8",
   "metadata": {},
   "outputs": [
    {
     "name": "stdout",
     "output_type": "stream",
     "text": [
      "INFO 03-23 10:58:11 [__init__.py:256] Automatically detected platform cuda.\n"
     ]
    }
   ],
   "source": [
    "import torch \n",
    "from transformers import AutoModelForCausalLM, AutoTokenizer\n",
    "from vllm import LLM, SamplingParams, PoolingParams\n",
    "\n",
    "from sal.config import Config"
   ]
  },
  {
   "cell_type": "code",
   "execution_count": 3,
   "id": "e7f44ed4-9242-47a6-8edc-f497382b8d40",
   "metadata": {},
   "outputs": [
    {
     "name": "stdout",
     "output_type": "stream",
     "text": [
      "\t\u001b[4mGPU0\tGPU1\tGPU2\tGPU3\tCPU Affinity\tNUMA Affinity\tGPU NUMA ID\u001b[0m\n",
      "GPU0\t X \tNODE\tSYS\tSYS\t1-24\t0\t\tN/A\n",
      "GPU1\tNODE\t X \tSYS\tSYS\t1-24\t0\t\tN/A\n",
      "GPU2\tSYS\tSYS\t X \tNODE\t49-72\t1\t\tN/A\n",
      "GPU3\tSYS\tSYS\tNODE\t X \t49-72\t1\t\tN/A\n",
      "\n",
      "Legend:\n",
      "\n",
      "  X    = Self\n",
      "  SYS  = Connection traversing PCIe as well as the SMP interconnect between NUMA nodes (e.g., QPI/UPI)\n",
      "  NODE = Connection traversing PCIe as well as the interconnect between PCIe Host Bridges within a NUMA node\n",
      "  PHB  = Connection traversing PCIe as well as a PCIe Host Bridge (typically the CPU)\n",
      "  PXB  = Connection traversing multiple PCIe bridges (without traversing the PCIe Host Bridge)\n",
      "  PIX  = Connection traversing at most a single PCIe bridge\n",
      "  NV#  = Connection traversing a bonded set of # NVLinks\n"
     ]
    }
   ],
   "source": [
    "!nvidia-smi topo -m"
   ]
  },
  {
   "cell_type": "code",
   "execution_count": 3,
   "id": "475e68c5-4858-4a96-895e-1e38328c38bb",
   "metadata": {},
   "outputs": [],
   "source": [
    "# base_path\n",
    "base_path = '/groups/kjun/tnn/datasets/'\n",
    "\n",
    "# dataset path\n",
    "dataset_path = base_path + \"/prm800k/math_splits\"\n",
    "\n",
    "# llm and prm path\n",
    "llm_path = base_path + \"/Llama-3.2-1B-Instruct-GGUF/Llama-3.2-1B-Instruct.Q4_K_M.gguf\"\n",
    "prm_path = base_path + \"/Llama3.1-8B-PRM-Deepseek-Data-GGUF/Llama3.1-8B-PRM-Deepseek-Data.Q4_K_M.gguf\"\n",
    "\n",
    "llm_tokenizer_path = base_path + \"/Llama-3.2-1B-Instruct\"\n",
    "prm_tokenizer_path = base_path + \"/Llama3.1-8B-PRM-Deepseek-Data\""
   ]
  },
  {
   "cell_type": "code",
   "execution_count": 7,
   "id": "eff66373-39b6-48be-82cc-353eb69dc8fc",
   "metadata": {},
   "outputs": [
    {
     "name": "stdout",
     "output_type": "stream",
     "text": [
      "1: 43\n",
      "2: 90\n",
      "3: 105\n",
      "4: 128\n",
      "5: 134\n"
     ]
    }
   ],
   "source": [
    "data_by_levels = defaultdict(list)\n",
    "with open(f\"{dataset_path}/test.jsonl\", 'r', encoding='utf-8') as filein:\n",
    "    for line in filein:\n",
    "        if line.strip():\n",
    "            data = json.loads(line)\n",
    "            # print(data['level'])\n",
    "            data_by_levels[f\"{data['level']}\"].append(data)\n",
    "\n",
    "    # data =  [json.loads(line) for line in filein if line.strip()]\n",
    "    # pprint.pprint(data, compact=True)\n",
    "\n",
    "for key in range(1,6):\n",
    "    key = str(key)\n",
    "    print(f\"{key}: {len(data_by_levels[key])}\")\n",
    "    # pprint.pprint(data_by_levels[key][:2], compact=True)\n",
    "# print(data_by_levels.keys())\n",
    "# pprint.pprint(data_by_levels['2'], compact=True)\n",
    "\n",
    "# random_seeds = np.loadtxt(\"random_seeds.txt\").astype(\"int64\")\n",
    "# random_seeds = [int(seed) for seed in random_seeds]"
   ]
  },
  {
   "cell_type": "code",
   "execution_count": 3,
   "id": "ce05ed27-556b-4783-ba81-43f19c74d7a6",
   "metadata": {},
   "outputs": [],
   "source": [
    "level = '1'\n",
    "json_path = f\"results/generate_bon_prm800k_level{level}_v11.json\"\n",
    "jsonl_path = f\"results/generate_bon_prm800k_level{level}_v11.jsonl\"\n",
    "with open(json_path, 'r', encoding='utf-8') as filein:\n",
    "    data = json.load(filein)\n",
    "\n",
    "with open(jsonl_path, 'w', encoding='utf-8') as fileout:\n",
    "    for item in data:\n",
    "        json.dump(item, fileout)\n",
    "        fileout.write('\\n')"
   ]
  },
  {
   "cell_type": "code",
   "execution_count": 10,
   "id": "d49d8309-0253-4d6b-be87-bc7358147dff",
   "metadata": {},
   "outputs": [
    {
     "name": "stdout",
     "output_type": "stream",
     "text": [
      "num_trials = 10\n",
      "num_questions = 43\n",
      "<function test_best_of_n_v11 at 0x7f8cce59f880>\n",
      "trial 0\n",
      "it takes 8.7686s per question\n",
      "it takes 377.0496s per trial\n",
      "it takes 3768.7243s in total\n"
     ]
    }
   ],
   "source": [
    "# general params\n",
    "config = Config()\n",
    "config.n = 128\n",
    "\n",
    "level = '1'\n",
    "num_questions = len(data_by_levels[level])\n",
    "# num_questions = 2\n",
    "num_trials = 10\n",
    "print(f\"num_trials = {num_trials}\")\n",
    "print(f\"num_questions = {num_questions}\")\n",
    "\n",
    "method_number = 1\n",
    "if method_number == 1:\n",
    "    test_method = test_best_of_n_v11\n",
    "else:\n",
    "    test_method = test_best_of_n_v12\n",
    "print(test_method)\n",
    "\n",
    "batch_of_prompts = [data_by_levels[level][q_idx]['problem'] for q_idx in range(num_questions)]\n",
    "\n",
    "result_filename = f\"results/generate_bon_prm800k_level{level}_v11.json\"\n",
    "all_results = []\n",
    "start_time = time.time()\n",
    "for trial_idx in range(num_trials):\n",
    "    # test_method(batch_of_prompts, config, llm_vllm, random_seeds[trial_idx])\n",
    "    results = test_method(batch_of_prompts, config, llm_vllm, 10000+trial_idx)\n",
    "    all_results.append(results)\n",
    "    with open(result_filename, 'w', encoding = 'utf-8') as fout:\n",
    "        json.dump(all_results, fout, ensure_ascii=True, indent=4)\n",
    "\n",
    "    # compute the time\n",
    "    if trial_idx % 10 == 0:\n",
    "        total_time = time.time() - start_time\n",
    "        time_per_trial = total_time/(trial_idx+1)\n",
    "        time_per_question = time_per_trial/num_questions\n",
    "        print(f\"trial {trial_idx}\")\n",
    "        print(f\"it takes {time_per_question:0.4f}s per question\")\n",
    "        print(f\"it takes {time_per_trial:0.4f}s per trial\")\n",
    "\n",
    "total_time = time.time() - start_time\n",
    "print(f\"it takes {total_time:0.4f}s in total\")"
   ]
  },
  {
   "cell_type": "code",
   "execution_count": null,
   "id": "46dd6731-cfe6-4101-b5bc-7a6261735dcc",
   "metadata": {},
   "outputs": [],
   "source": []
  }
 ],
 "metadata": {
  "kernelspec": {
   "display_name": "py311",
   "language": "python",
   "name": "py311"
  },
  "language_info": {
   "codemirror_mode": {
    "name": "ipython",
    "version": 3
   },
   "file_extension": ".py",
   "mimetype": "text/x-python",
   "name": "python",
   "nbconvert_exporter": "python",
   "pygments_lexer": "ipython3",
   "version": "3.11.11"
  }
 },
 "nbformat": 4,
 "nbformat_minor": 5
}
