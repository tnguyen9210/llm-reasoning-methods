{
 "cells": [
  {
   "cell_type": "code",
   "execution_count": 1,
   "id": "51f10c28-3f2d-47c0-ace3-b7a5d1463ec4",
   "metadata": {},
   "outputs": [],
   "source": [
    "import os, psutil, gc\n",
    "import time \n",
    "import json\n",
    "import pprint\n",
    "\n",
    "from collections import defaultdict\n",
    "import random\n",
    "\n",
    "import numpy as np\n",
    "from scipy.stats import ttest_rel"
   ]
  },
  {
   "cell_type": "code",
   "execution_count": 2,
   "id": "e4cae36f-3789-45cf-9533-1842d3c71779",
   "metadata": {},
   "outputs": [],
   "source": [
    "from sal.config import Config\n",
    "\n",
    "from core import best_of_n\n",
    "from utils.load_data import load_data_prm800k\n",
    "from utils import grader "
   ]
  },
  {
   "cell_type": "code",
   "execution_count": 3,
   "id": "e24dfa33-ee28-4654-b0e1-24a1c4eff608",
   "metadata": {},
   "outputs": [],
   "source": [
    "# base_dir\n",
    "base_dir = '/groups/kjun/tnn/datasets/'\n",
    "\n",
    "# dataset path\n",
    "data_dir = base_dir + \"/prm800k/math_splits\"\n",
    "\n",
    "# llm and prm path\n",
    "llm_dir = base_dir + \"/Llama-3.2-1B-Instruct-GGUF/Llama-3.2-1B-Instruct.Q4_K_M.gguf\"\n",
    "prm_dir = base_dir + \"/Llama3.1-8B-PRM-Deepseek-Data-GGUF/Llama3.1-8B-PRM-Deepseek-Data.Q4_K_M.gguf\"\n",
    "\n",
    "llm_tokenizer_dir = base_dir + \"/Llama-3.2-1B-Instruct\"\n",
    "prm_tokenizer_dir = base_dir + \"/Llama3.1-8B-PRM-Deepseek-Data\""
   ]
  },
  {
   "cell_type": "code",
   "execution_count": 4,
   "id": "81a4e1bf-b56b-4874-98cf-0ed225567369",
   "metadata": {},
   "outputs": [
    {
     "name": "stdout",
     "output_type": "stream",
     "text": [
      "1: 43\n",
      "2: 90\n",
      "3: 105\n",
      "4: 128\n",
      "5: 134\n"
     ]
    }
   ],
   "source": [
    "#  load data \n",
    "data_by_levels = load_data_prm800k(data_dir)\n",
    "\n",
    "\n",
    "# ds_completions = load_completions(completions_dir)\n",
    "\n",
    "# load random_seeds     \n",
    "# random_seeds = np.loadtxt(\"random_seeds.txt\").astype(\"int64\")\n",
    "# random_seeds = [int(seed) for seed in random_seeds]"
   ]
  },
  {
   "cell_type": "code",
   "execution_count": 5,
   "id": "97197039-298e-407e-ae80-876cc65dd7b2",
   "metadata": {},
   "outputs": [
    {
     "name": "stdout",
     "output_type": "stream",
     "text": [
      "num_questions = 128\n"
     ]
    }
   ],
   "source": [
    "level = '4'\n",
    "num_questions = len(data_by_levels[level])\n",
    "# num_questions = 1\n",
    "num_trials = 1\n",
    "num_budgets = 8\n",
    "print(f\"num_questions = {num_questions}\")"
   ]
  },
  {
   "cell_type": "code",
   "execution_count": 10,
   "id": "457c29a6-0b47-42ef-91ce-720a6a30eb8f",
   "metadata": {},
   "outputs": [
    {
     "name": "stdout",
     "output_type": "stream",
     "text": [
      "bon_score = 0.328125\n",
      "sd_score = 0.3359375\n",
      "-0.20773359138114222\n",
      "0.8357697355343734\n"
     ]
    }
   ],
   "source": [
    "def evaluate_correctness(data_dir, data_by_levels, num_trials, num_budgets):\n",
    "    with open(data_dir, 'r', encoding='utf-8') as fin:\n",
    "        results = []\n",
    "        best_completions = []\n",
    "        best_prm_scores = []\n",
    "        pred_answers = []\n",
    "        gt_answers = []\n",
    "        trial_idx = 0\n",
    "        for line in fin:\n",
    "            if trial_idx >= num_trials:\n",
    "                break\n",
    "                \n",
    "            trial_data = json.loads(line)\n",
    "            for q_idx in range(len(data_by_levels)):\n",
    "                best_idx = np.argmax(trial_data['agg_scores'][q_idx])\n",
    "                best_completion = trial_data['completions'][q_idx][best_idx]\n",
    "                pred_answer = grader.extract_last_boxed_answer(best_completion)\n",
    "                gt_answer = data_by_levels[q_idx]['answer']\n",
    "                is_correct = grader.grade_answer(pred_answer, gt_answer)\n",
    "\n",
    "                # # print(len(trial_data['completions'][q_idx]))\n",
    "                # if pred_answer is None and q_idx > 1:\n",
    "                #     print(f\"\\n-> question {q_idx}\")\n",
    "                #     print(f\"pred answer: {pred_answer}\")\n",
    "                #     print(f\"gt answer: {gt_answer}\")\n",
    "                #     print(f\"is correct: {is_correct}\")\n",
    "                #     # print(best_completion)\n",
    "                #     print(best_idx)\n",
    "                #     for cidx, completion in enumerate(trial_data['completions'][q_idx]):\n",
    "                #         print(f\"cidx = {cidx}\")\n",
    "                #         print(completion)\n",
    "                # print(f\"all scores = {trial_data['agg_scores'][q_idx]}\")\n",
    "                # print(f\"best score = {trial_data['agg_scores'][q_idx][best_idx]}\")\n",
    "                results.append(is_correct)\n",
    "                best_completions.append(best_completion)\n",
    "                pred_answers.append(pred_answer)\n",
    "                gt_answers.append(gt_answer)\n",
    "                best_prm_scores.append(trial_data['agg_scores'][q_idx][best_idx])\n",
    "\n",
    "        trial_idx += 1\n",
    "        \n",
    "    return results, best_completions, best_prm_scores, pred_answers, gt_answers\n",
    "\n",
    "\n",
    "# general params\n",
    "config = Config()\n",
    "config.agg_strategy = 'last'\n",
    "config.n = 16\n",
    "config.beam_width = 2\n",
    "config.lookahead = 0\n",
    "config.num_iterations = 3\n",
    "config.sort_completed = False\n",
    "\n",
    "# diverse_select params\n",
    "config.lam = 10\n",
    "config.normalize_embeds = True\n",
    "\n",
    "bon_dir = \"results/scores_bon_prm800k_level4_n16_v11.jsonl\" \n",
    "sd_dir = f\"results/scores_sd_prm800k_level{level}_n{config.n}_bw{config.beam_width}_depth{config.num_iterations}_lam{config.lam}_v11.jsonl\"\n",
    "\n",
    "bon_results, bon_best_completions, bon_best_prm_scores, bon_pred_answers, bon_gt_answer = \\\n",
    "    evaluate_correctness(bon_dir, data_by_levels[level], num_trials, config.n)\n",
    "sd_results, sd_best_completions, sd_best_prm_scores, sd_pred_answers, sd_gt_answer = \\\n",
    "    evaluate_correctness(sd_dir, data_by_levels[level], num_trials, config.n)\n",
    "# print(sd_results)\n",
    "# print(sd_best_completions)\n",
    "# print(sd_pred_answers)\n",
    "# print(sd_gt_answer)\n",
    "print(f\"bon_score = {np.mean(bon_results)}\")\n",
    "print(f\"sd_score = {np.mean(sd_results)}\")\n",
    "\n",
    "t_stat, p_value = ttest_rel(np.array(bon_results).astype(int), np.array(sd_results).astype(int))\n",
    "print(t_stat)\n",
    "print(p_value)"
   ]
  }
 ],
 "metadata": {
  "kernelspec": {
   "display_name": "py311",
   "language": "python",
   "name": "py311"
  },
  "language_info": {
   "codemirror_mode": {
    "name": "ipython",
    "version": 3
   },
   "file_extension": ".py",
   "mimetype": "text/x-python",
   "name": "python",
   "nbconvert_exporter": "python",
   "pygments_lexer": "ipython3",
   "version": "3.11.11"
  }
 },
 "nbformat": 4,
 "nbformat_minor": 5
}
