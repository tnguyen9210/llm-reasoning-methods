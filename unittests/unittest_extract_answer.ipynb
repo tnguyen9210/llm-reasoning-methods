{
 "cells": [
  {
   "cell_type": "code",
   "execution_count": 4,
   "id": "ff1856c2-889e-472a-823d-068e48229907",
   "metadata": {},
   "outputs": [
    {
     "name": "stdout",
     "output_type": "stream",
     "text": [
      "Prediction 1: 90\n",
      "Prediction 2: \\frac{\\pi}{2}\n",
      "Prediction 3: x^2 + 3x + 2\n",
      "Prediction 4: None\n"
     ]
    }
   ],
   "source": [
    "import re\n",
    "\n",
    "def extract_last_boxed_content(text):\n",
    "    \"\"\"\n",
    "    Extracts the content inside the last \\\\boxed{...} in the given text, \n",
    "    handling nested braces properly.\n",
    "    \n",
    "    Args:\n",
    "        text (str): The input text containing one or more \\\\boxed{...} instances.\n",
    "    \n",
    "    Returns:\n",
    "        str or None: The content inside the last \\\\boxed{...}, or None if not found.\n",
    "    \"\"\"\n",
    "    # Find the starting index of the last '\\\\boxed{'\n",
    "    boxed_start = text.rfind('\\\\boxed{')\n",
    "    if boxed_start == -1:\n",
    "        return None  # No \\\\boxed{ found\n",
    "    \n",
    "    # Start after the opening '{'\n",
    "    start_index = boxed_start + len('\\\\boxed{')\n",
    "    brace_count = 1  # We've seen the opening '{'\n",
    "    content = ''\n",
    "    \n",
    "    # Iterate through the text to find the matching closing brace\n",
    "    for i in range(start_index, len(text)):\n",
    "        char = text[i]\n",
    "        if char == '{':\n",
    "            brace_count += 1\n",
    "        elif char == '}':\n",
    "            brace_count -= 1\n",
    "            if brace_count == 0:\n",
    "                return content.strip()  # Return content when braces balance\n",
    "        content += char\n",
    "    \n",
    "    return None  # No matching closing brace found\n",
    "\n",
    "# Example predictions\n",
    "predictions = [\n",
    "    r\"\\boxed{10} The final answer is: \\boxed{90}\",\n",
    "    r\"After integration and simplification, the result is \\boxed{\\frac{\\pi}{2}}\",\n",
    "    r\"Answer: \\boxed{x^2 + 3x + 2}\",\n",
    "    r\"Solution does not include boxed result.\"\n",
    "]\n",
    "\n",
    "# Extract and print answers\n",
    "for i, pred in enumerate(predictions):\n",
    "    ans = extract_last_boxed_content(pred)\n",
    "    print(f\"Prediction {i+1}: {ans}\")"
   ]
  }
 ],
 "metadata": {
  "kernelspec": {
   "display_name": "Python 3 (ipykernel)",
   "language": "python",
   "name": "python3"
  },
  "language_info": {
   "codemirror_mode": {
    "name": "ipython",
    "version": 3
   },
   "file_extension": ".py",
   "mimetype": "text/x-python",
   "name": "python",
   "nbconvert_exporter": "python",
   "pygments_lexer": "ipython3",
   "version": "3.8.12"
  }
 },
 "nbformat": 4,
 "nbformat_minor": 5
}
