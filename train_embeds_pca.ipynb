{
 "cells": [
  {
   "cell_type": "code",
   "execution_count": 21,
   "id": "5d5ded8f-a621-4892-8e6b-eff3668a4b5e",
   "metadata": {},
   "outputs": [],
   "source": [
    "import os, psutil, gc\n",
    "import json, pickle\n",
    "import time\n",
    "import pprint\n",
    "import copy \n",
    "\n",
    "from collections import defaultdict\n",
    "import random\n",
    "import numpy as np\n",
    "\n",
    "from sklearn.decomposition import PCA\n"
   ]
  },
  {
   "cell_type": "code",
   "execution_count": 3,
   "id": "5a3a25de-5a50-4039-b60e-51ae6b030bf8",
   "metadata": {},
   "outputs": [],
   "source": [
    "# base_dir\n",
    "base_dir = '/groups/kjun/tnn/datasets/'\n",
    "\n",
    "# dataset path\n",
    "data_dir = base_dir + \"/prm800k/math_splits\"\n",
    "pca_dir = base_dir + \"/completion_embeds\"\n",
    "\n",
    "# llm and prm path\n",
    "llm_dir = base_dir + \"/Llama-3.2-1B-Instruct-GGUF/Llama-3.2-1B-Instruct.Q4_K_M.gguf\"\n",
    "prm_dir = base_dir + \"/Llama3.1-8B-PRM-Deepseek-Data-GGUF/Llama3.1-8B-PRM-Deepseek-Data.Q4_K_M.gguf\"\n",
    "\n",
    "llm_tokenizer_dir = base_dir + \"/Llama-3.2-1B-Instruct\"\n",
    "prm_tokenizer_dir = base_dir + \"/Llama3.1-8B-PRM-Deepseek-Data\""
   ]
  },
  {
   "cell_type": "code",
   "execution_count": 44,
   "id": "5512d883-1e5d-4f4e-8764-c9c05f9f59b4",
   "metadata": {},
   "outputs": [],
   "source": [
    "level = 4\n",
    "config_name = f\"bon--n-256--level-{level}--train--v01--chunk-0_200--trial-0\"\n",
    "# with open(f\"{pca_dir}/{config_name}.pkl\", \"rb\") as fin:\n",
    "#     dataset = pickle.load(fin)\n",
    "    \n",
    "dataset = []\n",
    "for level in range(1, 6):\n",
    "    config_name = f\"bon--n-256--level-{level}--train--v01--chunk-0_200--trial-0\"\n",
    "    with open(f\"{pca_dir}/{config_name}.pkl\", \"rb\") as fin:\n",
    "        dataset += pickle.load(fin)"
   ]
  },
  {
   "cell_type": "code",
   "execution_count": 40,
   "id": "27596cd7-5107-4753-aa9a-7bfac427c3d3",
   "metadata": {},
   "outputs": [
    {
     "name": "stdout",
     "output_type": "stream",
     "text": [
      "2029969\n"
     ]
    }
   ],
   "source": [
    "print(len(dataset))"
   ]
  },
  {
   "cell_type": "code",
   "execution_count": null,
   "id": "fd2a6808-ef1c-477e-8622-9841f3af511c",
   "metadata": {},
   "outputs": [],
   "source": [
    "config_name = f\"bon--n-256--level-all--train--v01--chunk-0_200--trial-0\"\n",
    "def train_pca(dataset, config_name, ndim):\n",
    "    _all_embeds = []\n",
    "    for data in dataset:\n",
    "        if data['is_completed'] == 0:\n",
    "            _all_embeds.append(data['embeds'])\n",
    "    all_embeds = np.vstack(_all_embeds)\n",
    "    pca = PCA(n_components = ndim)\n",
    "    embeds_mean = np.mean(all_embeds, axis=0)\n",
    "    all_embed_centered = all_embeds - embeds_mean\n",
    "    pca.fit(all_embed_centered)\n",
    "    \n",
    "    with open(f\"results/{config_name}--pca-{ndim}.pkl\", \"wb\") as fout:\n",
    "        save_data = [embeds_mean, pca.components_]\n",
    "        pickle.dump(save_data, fout)\n",
    "\n",
    "ndim = 256\n",
    "train_pca(dataset, config_name, ndim)"
   ]
  },
  {
   "cell_type": "code",
   "execution_count": 18,
   "id": "3f69af62-d4be-47e4-b546-1e701425c669",
   "metadata": {},
   "outputs": [],
   "source": []
  },
  {
   "cell_type": "code",
   "execution_count": 19,
   "id": "cc67bf73-a57e-4a81-a6bf-e5e6e4738cff",
   "metadata": {},
   "outputs": [
    {
     "name": "stdout",
     "output_type": "stream",
     "text": [
      "(495912, 2048)\n"
     ]
    }
   ],
   "source": [
    "\n",
    "print(all_embeds.shape)"
   ]
  },
  {
   "cell_type": "code",
   "execution_count": 22,
   "id": "b4ccd881-c921-4e59-8709-84b4a703be76",
   "metadata": {},
   "outputs": [],
   "source": [
    "ndim = 256\n",
    "pca = PCA(n_components = ndim)"
   ]
  },
  {
   "cell_type": "code",
   "execution_count": 24,
   "id": "2c314173-a6e3-4488-943a-3749a2d42492",
   "metadata": {},
   "outputs": [
    {
     "name": "stdout",
     "output_type": "stream",
     "text": [
      "[[ 0.02022387  0.03108055 -0.00753227 ... -0.03004597  0.01598934\n",
      "  -0.02011937]\n",
      " [ 0.0200042   0.02868506  0.01134786 ...  0.00494341  0.06565451\n",
      "   0.02841046]\n",
      " [-0.00098525 -0.02191211 -0.01001046 ... -0.01901794 -0.00709826\n",
      "   0.00114151]\n",
      " ...\n",
      " [ 0.03349313 -0.02696786 -0.01541481 ...  0.02019269  0.0139631\n",
      "   0.0024994 ]\n",
      " [-0.01077085 -0.04135703  0.03308401 ...  0.05029943  0.0230169\n",
      "  -0.00894882]\n",
      " [-0.02573958 -0.02332509  0.00326485 ...  0.0545907  -0.03538265\n",
      "   0.04684769]]\n"
     ]
    }
   ],
   "source": [
    "embeds_mean = np.mean(all_embeds, axis=0)\n",
    "all_embed_centered = all_embeds - embeds_mean\n",
    "pca.fit(all_embed_centered)\n",
    "print(pca.components_)"
   ]
  },
  {
   "cell_type": "code",
   "execution_count": 25,
   "id": "9b0c369e-f79e-4e65-90cc-fc1dffe2667a",
   "metadata": {},
   "outputs": [
    {
     "data": {
      "text/plain": [
       "(256, 2048)"
      ]
     },
     "execution_count": 25,
     "metadata": {},
     "output_type": "execute_result"
    }
   ],
   "source": [
    "pca.components_.shape"
   ]
  },
  {
   "cell_type": "code",
   "execution_count": null,
   "id": "b0d916a0-0c45-48ad-a235-0ddb586f66a8",
   "metadata": {},
   "outputs": [],
   "source": [
    "all_embed_transformed = pca.fit_transform(all_embed_centered)\n",
    "print(all_embed_transformed[:1,:10])"
   ]
  },
  {
   "cell_type": "code",
   "execution_count": 32,
   "id": "7b509010-5dc6-4b72-9f87-7d37f7c56794",
   "metadata": {},
   "outputs": [
    {
     "name": "stdout",
     "output_type": "stream",
     "text": [
      "[[-12.884256   42.954163    3.8596764  24.579433    9.634513  -13.448514\n",
      "   -3.5539434 -11.564653  -11.707997    9.229043 ]]\n",
      "[[ 0.02022384  0.03108057 -0.00753224 ... -0.03004593  0.01598937\n",
      "  -0.02011932]\n",
      " [ 0.0200042   0.02868508  0.01134786 ...  0.00494342  0.06565449\n",
      "   0.02841049]\n",
      " [-0.00098524 -0.02191202 -0.01001049 ... -0.01901795 -0.00709834\n",
      "   0.00114146]\n",
      " ...\n",
      " [ 0.01900635  0.02285737 -0.00608761 ... -0.00576427 -0.02189744\n",
      "  -0.00754477]\n",
      " [ 0.02213326  0.02206101 -0.02618645 ... -0.00096279  0.04043048\n",
      "   0.00293596]\n",
      " [-0.00328571  0.01436644  0.01008494 ... -0.00529047  0.02228228\n",
      "   0.01003818]]\n"
     ]
    }
   ],
   "source": [
    "print(all_embed_transformed[:1,:10])\n",
    "print(pca.components_)"
   ]
  },
  {
   "cell_type": "code",
   "execution_count": 34,
   "id": "303f5a3c-4b74-4934-8365-6e094733287b",
   "metadata": {},
   "outputs": [],
   "source": [
    "all_embed_transformed_2 = np.matmul(all_embed_centered, pca.components_.T)"
   ]
  },
  {
   "cell_type": "code",
   "execution_count": 35,
   "id": "2b3fc042-597c-4680-a182-dcb6f9bb5074",
   "metadata": {},
   "outputs": [
    {
     "name": "stdout",
     "output_type": "stream",
     "text": [
      "[[-12.884413   42.95352     3.8605475  24.57958     9.634318  -13.449513\n",
      "   -3.5537057 -11.5649185 -11.707938    9.229224 ]]\n"
     ]
    }
   ],
   "source": [
    "print(all_embed_transformed_2[:1,:10])"
   ]
  },
  {
   "cell_type": "code",
   "execution_count": 36,
   "id": "c4d2198f-04bb-457f-ab1d-d5d5b4ff6eee",
   "metadata": {},
   "outputs": [],
   "source": [
    "with open(f\"{pca_dir}/{config_name}-pca.pkl\", \"wb\") as fout:\n",
    "    save_data = [embeds_mean, pca.components_]\n",
    "    pickle.dump(save_data, fout)"
   ]
  },
  {
   "cell_type": "code",
   "execution_count": null,
   "id": "fa855cb9-e243-47b5-a9f9-c1656a5faa22",
   "metadata": {},
   "outputs": [],
   "source": [
    "pca = PCA(n_comp"
   ]
  }
 ],
 "metadata": {
  "kernelspec": {
   "display_name": "Python 3 (ipykernel)",
   "language": "python",
   "name": "python3"
  },
  "language_info": {
   "codemirror_mode": {
    "name": "ipython",
    "version": 3
   },
   "file_extension": ".py",
   "mimetype": "text/x-python",
   "name": "python",
   "nbconvert_exporter": "python",
   "pygments_lexer": "ipython3",
   "version": "3.8.12"
  }
 },
 "nbformat": 4,
 "nbformat_minor": 5
}
