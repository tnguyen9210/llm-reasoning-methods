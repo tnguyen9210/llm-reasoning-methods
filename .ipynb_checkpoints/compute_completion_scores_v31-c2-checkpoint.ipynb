{
 "cells": [
  {
   "cell_type": "code",
   "execution_count": 1,
   "id": "51f10c28-3f2d-47c0-ace3-b7a5d1463ec4",
   "metadata": {},
   "outputs": [],
   "source": [
    "'''\n",
    "Compute prm scores for each question instead of multiple questions\n",
    "'''\n",
    "\n",
    "import os, psutil, gc\n",
    "import time \n",
    "import json\n",
    "import pprint\n",
    "\n",
    "from collections import defaultdict\n",
    "import random"
   ]
  },
  {
   "cell_type": "code",
   "execution_count": 2,
   "id": "e4cae36f-3789-45cf-9533-1842d3c71779",
   "metadata": {},
   "outputs": [],
   "source": [
    "import torch \n",
    "from transformers import AutoModelForCausalLM, AutoTokenizer\n",
    "from vllm import LLM, SamplingParams, PoolingParams\n",
    "\n",
    "from sal.config import Config\n",
    "from sal.models.reward_models import PRM\n",
    "from sal.utils.score import score, aggregate_scores\n",
    "\n",
    "from datasets import Dataset, load_dataset\n",
    "\n",
    "from core.reward_models import RLHFFlow\n",
    "\n",
    "from core import best_of_n\n",
    "from utils.load_data import load_data_prm800k\n",
    "\n",
    "from utils import load_data"
   ]
  },
  {
   "cell_type": "code",
   "execution_count": 3,
   "id": "e24dfa33-ee28-4654-b0e1-24a1c4eff608",
   "metadata": {},
   "outputs": [],
   "source": [
    "# base_dir\n",
    "base_dir = '/groups/kjun/tnn/datasets/'\n",
    "\n",
    "# dataset path\n",
    "data_dir = base_dir + \"/prm800k/math_splits\"\n",
    "\n",
    "# llm and prm path\n",
    "llm_dir = base_dir + \"/Llama-3.2-1B-Instruct-GGUF/Llama-3.2-1B-Instruct.Q4_K_M.gguf\"\n",
    "prm_dir = base_dir + \"/Llama3.1-8B-PRM-Deepseek-Data-GGUF/Llama3.1-8B-PRM-Deepseek-Data.Q4_K_M.gguf\"\n",
    "\n",
    "llm_tokenizer_dir = base_dir + \"/Llama-3.2-1B-Instruct\"\n",
    "prm_tokenizer_dir = base_dir + \"/Llama3.1-8B-PRM-Deepseek-Data\""
   ]
  },
  {
   "cell_type": "code",
   "execution_count": 4,
   "id": "1b42d59a-2eb5-4be7-812a-e4705522df4c",
   "metadata": {},
   "outputs": [
    {
     "name": "stdout",
     "output_type": "stream",
     "text": [
      "GPUs = ['0', '1', '2', '3']\n"
     ]
    }
   ],
   "source": [
    "os.environ[\"CUDA_VISIBLE_DEVICES\"]=\"0,1,2,3\"\n",
    "if torch.cuda.is_available():\n",
    "    GPUs = os.environ.get('CUDA_VISIBLE_DEVICES', \"0\").split(',')\n",
    "    print(f\"GPUs = {GPUs}\")\n",
    "else:\n",
    "    print(\"CUDA is not available.\") "
   ]
  },
  {
   "cell_type": "code",
   "execution_count": 5,
   "id": "9a129354-c8ce-4c23-bef0-6684bb9d73e9",
   "metadata": {},
   "outputs": [
    {
     "data": {
      "application/vnd.jupyter.widget-view+json": {
       "model_id": "5537a002885f468cb9260213b4d8a23e",
       "version_major": 2,
       "version_minor": 0
      },
      "text/plain": [
       "Loading checkpoint shards:   0%|          | 0/4 [00:00<?, ?it/s]"
      ]
     },
     "metadata": {},
     "output_type": "display_data"
    },
    {
     "name": "stdout",
     "output_type": "stream",
     "text": [
      "#--- memory: 0.0\n",
      "#--- memory: 0.0\n"
     ]
    }
   ],
   "source": [
    "prm = RLHFFlow(model_path=prm_tokenizer_dir, device_map='cuda:2')\n",
    "\n",
    "gc.collect();torch.cuda.empty_cache();\n",
    "print('#--- memory:', torch.cuda.memory_allocated(0)/(1024**3))\n",
    "print('#--- memory:', torch.cuda.memory_allocated(1)/(1024**3))\n",
    "# print('#--- memory:', torch.cuda.memory_allocated(2)/(1024**3))\n",
    "# print('#--- memory:', torch.cuda.memory_allocated(3)/(1024**3))"
   ]
  },
  {
   "cell_type": "code",
   "execution_count": 6,
   "id": "ac147209-6f17-4d7d-a94d-bdaeccbba42d",
   "metadata": {},
   "outputs": [
    {
     "name": "stdout",
     "output_type": "stream",
     "text": [
      "#--- memory: 0.0\n",
      "#--- memory: 0.0\n"
     ]
    }
   ],
   "source": [
    "# del(prm)\n",
    "gc.collect();torch.cuda.empty_cache();\n",
    "print('#--- memory:', torch.cuda.memory_allocated(0)/(1024**3))\n",
    "print('#--- memory:', torch.cuda.memory_allocated(1)/(1024**3))"
   ]
  },
  {
   "cell_type": "code",
   "execution_count": 7,
   "id": "7a979351-8a3f-43ab-95fe-e6f1b39e4886",
   "metadata": {},
   "outputs": [
    {
     "data": {
      "text/plain": [
       "<module 'utils.load_data' from '/home/u20/tnguyen9210/tnn1/LLMs/llm-reasoning-methods/utils/load_data.py'>"
      ]
     },
     "execution_count": 7,
     "metadata": {},
     "output_type": "execute_result"
    }
   ],
   "source": [
    "import importlib\n",
    "importlib.reload(load_data)"
   ]
  },
  {
   "cell_type": "code",
   "execution_count": 8,
   "id": "81a4e1bf-b56b-4874-98cf-0ed225567369",
   "metadata": {},
   "outputs": [
    {
     "name": "stdout",
     "output_type": "stream",
     "text": [
      "1: 43\n",
      "2: 90\n",
      "3: 105\n",
      "4: 128\n",
      "5: 134\n",
      "Dataset({\n",
      "    features: ['problem', 'solution', 'answer', 'subject', 'level', 'unique_id'],\n",
      "    num_rows: 500\n",
      "})\n"
     ]
    }
   ],
   "source": [
    "config = Config()\n",
    "\n",
    "#  load data \n",
    "data_by_levels = load_data_prm800k(data_dir)\n",
    "# print(data_by_levels)\n",
    "\n",
    "# print(config.dataset_name)\n",
    "orig_dataset = load_dataset(config.dataset_name, split='test', cache_dir=data_dir)\n",
    "print(orig_dataset)\n",
    "# stop\n",
    "# for data in dataset:\n",
    "#     pprint.pprint(data)\n",
    "#     stop\n",
    "# ds_completions = load_completions(completions_dir)\n",
    "\n",
    "# load random_seeds     \n",
    "# random_seeds = np.loadtxt(\"random_seeds.txt\").astype(\"int64\")\n",
    "# random_seeds = [int(seed) for seed in random_seeds]"
   ]
  },
  {
   "cell_type": "code",
   "execution_count": 9,
   "id": "149abeb0-dd68-4c7b-9a40-811b5991cfc2",
   "metadata": {},
   "outputs": [
    {
     "ename": "NameError",
     "evalue": "name 'stop' is not defined",
     "output_type": "error",
     "traceback": [
      "\u001b[0;31m---------------------------------------------------------------------------\u001b[0m",
      "\u001b[0;31mNameError\u001b[0m                                 Traceback (most recent call last)",
      "Cell \u001b[0;32mIn[9], line 1\u001b[0m\n\u001b[0;32m----> 1\u001b[0m \u001b[43mstop\u001b[49m\n",
      "\u001b[0;31mNameError\u001b[0m: name 'stop' is not defined"
     ]
    }
   ],
   "source": [
    "stop"
   ]
  },
  {
   "cell_type": "code",
   "execution_count": null,
   "id": "97197039-298e-407e-ae80-876cc65dd7b2",
   "metadata": {},
   "outputs": [
    {
     "name": "stdout",
     "output_type": "stream",
     "text": [
      "num_questions = 128\n",
      "Dataset({\n",
      "    features: ['problem', 'solution', 'answer', 'subject', 'level', 'unique_id'],\n",
      "    num_rows: 128\n",
      "})\n",
      "128\n",
      "len = 50\n",
      "q_idx: 0 - 50\n"
     ]
    }
   ],
   "source": [
    "# general params\n",
    "config = Config()\n",
    "config.agg_strategy = 'last'\n",
    "config.n = 8\n",
    "config.beam_width = 4\n",
    "config.lookahead = 0\n",
    "config.num_iterations = 40\n",
    "config.sort_completed = False\n",
    "config.seed = 0\n",
    "config.version = \"v21\"\n",
    "\n",
    "# diverse_select params\n",
    "config.lam = 10\n",
    "config.normalize_embeds = True\n",
    "\n",
    "config.num_proc = 12 \n",
    "\n",
    "dataset_id = \"tnguyen9210/LLM-Reasoning-Math-500\"\n",
    "level = 4\n",
    "num_questions = len(data_by_levels[level])\n",
    "# num_questions = 2\n",
    "num_trials = 5\n",
    "print(f\"num_questions = {num_questions}\")\n",
    "\n",
    "# get batch of questions\n",
    "batch_of_questions = [data_by_levels[level][q_idx]['problem'] for q_idx in range(num_questions)]\n",
    "orig_dataset_by_level = orig_dataset.filter(lambda example: example['level'] == int(level))\n",
    "orig_dataset_by_level = orig_dataset_by_level.select(range(num_questions))\n",
    "print(orig_dataset_by_level)\n",
    "# for data in orig_dataset_by_level:\n",
    "#     print(data)\n",
    "\n",
    "# load completions\n",
    "# config_name = f\"sd--n-{config.n}--bw-{config.beam_width}--depth-{config.num_iterations}--lam-{config.lam}--{config.normalize_embeds}--seed-{config.seed}--level-{level}--{config.version}\"\n",
    "config_name = \"sd--n-16--bw-2--depth-2--lam-10--True--seed-0--level-4--v21\"\n",
    "config_name = \"sd--n-8--bw-2--d-2--lam-10--True--level-4--v21\"\n",
    "config_name = \"sd--n-8--bw-2--d-2--lam-10--True--level-4--v21\"\n",
    "config_name = \"sd--n-16--bw-4--depth-40--lam-10--True--level-4--v11\"\n",
    "\n",
    "completions_dir = f\"results/generate_{config_name}.jsonl\"\n",
    "scores_dir = f\"results/scores_{config_name}.jsonl\"\n",
    "start_idx = 0\n",
    "\n",
    "limit_budgets = 50\n",
    "\n",
    "# compute results\n",
    "start_time = time.time()    \n",
    "with open(completions_dir, 'r', encoding = 'utf-8') as fin:\n",
    "    trial_idx = 0\n",
    "    for line in fin:\n",
    "        \n",
    "        if trial_idx >= num_trials:\n",
    "            break\n",
    "\n",
    "        if trial_idx < start_idx:\n",
    "            trial_idx += 1\n",
    "            continue\n",
    "            \n",
    "        trial_data = json.loads(line)\n",
    "        # print(len(trial_data[\"completions\"][0]))\n",
    "        # stop\n",
    "        completions = [trial_data[\"completions\"][q_idx][:limit_budgets] for q_idx in range(num_questions)]\n",
    "        \n",
    "        print(f\"{len(completions)}\")\n",
    "        print(f\"len = {len(completions[0])}\")\n",
    "        # print(batch_of_questions)\n",
    "        batch_scores = []\n",
    "        for q_idx in range(len(batch_of_questions)):\n",
    "            print(f\"q_idx: {q_idx} - {len(completions[q_idx])}\")\n",
    "            # print([batch_of_questions[q_idx]])\n",
    "            # print([completions[q_idx]])\n",
    "            scores = prm.score([batch_of_questions[q_idx]], [completions[q_idx]])\n",
    "            batch_scores += scores\n",
    "            # print(batch_scores)\n",
    "            gc.collect();torch.cuda.empty_cache();\n",
    "            print('#--- memory:', torch.cuda.memory_allocated(2)/(1024**3))\n",
    "            \n",
    "        # agg_scores = [\n",
    "        #     [aggregate_scores(s, config.agg_strategy) for s in score] for score in batch_scores\n",
    "        # ]\n",
    "        print(len(batch_scores))\n",
    "        print(len(batch_scores[0]))\n",
    "        \n",
    "        _orig_dataset_by_level = orig_dataset_by_level.add_column(\"completions\", completions)\n",
    "        _orig_dataset_by_level = _orig_dataset_by_level.add_column(\"scores\", batch_scores)\n",
    "        print(_orig_dataset_by_level)\n",
    "\n",
    "        # for data in orig_dataset_by_level:\n",
    "        #     print(data.keys())\n",
    "            # print(data[\"completions\"])\n",
    "                \n",
    "        _orig_dataset_by_level = score(_orig_dataset_by_level, config)\n",
    "        # for data in orig_dataset_by_level:\n",
    "        #     print(data)\n",
    "        #     stop\n",
    "\n",
    "        # _orig_dataset_by_level.push_to_hub(dataset_id, config_name=f\"{config_name}--trial-{trial_idx}\", split='test')\n",
    "        _orig_dataset_by_level.to_json(f\"results/{config_name}--limit-{limit_budgets}--trial-{trial_idx}.jsonl\")\n",
    "        \n",
    "        # compute the time\n",
    "        if trial_idx % 1 == 0:\n",
    "            total_time = time.time() - start_time\n",
    "            time_per_trial = total_time/(trial_idx+1)\n",
    "            time_per_question = time_per_trial/num_questions\n",
    "            print(f\"trial {trial_idx}\")\n",
    "            print(f\"it takes {time_per_question:0.4f}s per question\")\n",
    "            print(f\"it takes {time_per_trial:0.4f}s per trial\")\n",
    "\n",
    "        trial_idx += 1\n",
    "\n",
    "        \n",
    "        \n",
    "\n",
    "total_time = time.time() - start_time\n",
    "print(f\"it takes {total_time:0.4f}s in total\")"
   ]
  },
  {
   "cell_type": "code",
   "execution_count": null,
   "id": "1224bdaa-2f21-4aaa-8b9d-2c1182bef68f",
   "metadata": {},
   "outputs": [],
   "source": [
    "dataset_id = \"tnguyen9210/LLM-Reasoning-Math-500\"\n",
    "orig_dataset_by_level.push_to_hub(dataset_id, config_name=config_name, split='test')\n",
    "orig_dataset_by_level.to_json(f\"results/{config_name}.jsonl\")"
   ]
  }
 ],
 "metadata": {
  "kernelspec": {
   "display_name": "py311",
   "language": "python",
   "name": "py311"
  },
  "language_info": {
   "codemirror_mode": {
    "name": "ipython",
    "version": 3
   },
   "file_extension": ".py",
   "mimetype": "text/x-python",
   "name": "python",
   "nbconvert_exporter": "python",
   "pygments_lexer": "ipython3",
   "version": "3.11.11"
  }
 },
 "nbformat": 4,
 "nbformat_minor": 5
}
