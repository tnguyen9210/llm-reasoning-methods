{
 "cells": [
  {
   "cell_type": "code",
   "execution_count": 12,
   "id": "51f10c28-3f2d-47c0-ace3-b7a5d1463ec4",
   "metadata": {},
   "outputs": [],
   "source": [
    "import os, psutil, gc\n",
    "import time \n",
    "import json\n",
    "import pprint\n",
    "\n",
    "from collections import defaultdict\n",
    "import random\n",
    "\n",
    "import numpy as np"
   ]
  },
  {
   "cell_type": "code",
   "execution_count": 3,
   "id": "e4cae36f-3789-45cf-9533-1842d3c71779",
   "metadata": {},
   "outputs": [],
   "source": [
    "from core import best_of_n\n",
    "from utils.load_data import load_data_prm800k\n",
    "from utils import grader "
   ]
  },
  {
   "cell_type": "code",
   "execution_count": 4,
   "id": "e24dfa33-ee28-4654-b0e1-24a1c4eff608",
   "metadata": {},
   "outputs": [],
   "source": [
    "# base_dir\n",
    "base_dir = '/groups/kjun/tnn/datasets/'\n",
    "\n",
    "# dataset path\n",
    "data_dir = base_dir + \"/prm800k/math_splits\"\n",
    "\n",
    "# llm and prm path\n",
    "llm_dir = base_dir + \"/Llama-3.2-1B-Instruct-GGUF/Llama-3.2-1B-Instruct.Q4_K_M.gguf\"\n",
    "prm_dir = base_dir + \"/Llama3.1-8B-PRM-Deepseek-Data-GGUF/Llama3.1-8B-PRM-Deepseek-Data.Q4_K_M.gguf\"\n",
    "\n",
    "llm_tokenizer_dir = base_dir + \"/Llama-3.2-1B-Instruct\"\n",
    "prm_tokenizer_dir = base_dir + \"/Llama3.1-8B-PRM-Deepseek-Data\""
   ]
  },
  {
   "cell_type": "code",
   "execution_count": 4,
   "id": "1b42d59a-2eb5-4be7-812a-e4705522df4c",
   "metadata": {},
   "outputs": [
    {
     "name": "stdout",
     "output_type": "stream",
     "text": [
      "GPUs = ['0', '1', '2', '3']\n"
     ]
    }
   ],
   "source": [
    "os.environ[\"CUDA_VISIBLE_DEVICES\"]=\"0,1,2,3\"\n",
    "if torch.cuda.is_available():\n",
    "    GPUs = os.environ.get('CUDA_VISIBLE_DEVICES', \"0\").split(',')\n",
    "    print(f\"GPUs = {GPUs}\")\n",
    "else:\n",
    "    print(\"CUDA is not available.\") "
   ]
  },
  {
   "cell_type": "code",
   "execution_count": 5,
   "id": "81a4e1bf-b56b-4874-98cf-0ed225567369",
   "metadata": {},
   "outputs": [
    {
     "name": "stdout",
     "output_type": "stream",
     "text": [
      "1: 43\n",
      "2: 90\n",
      "3: 105\n",
      "4: 128\n",
      "5: 134\n"
     ]
    }
   ],
   "source": [
    "#  load data \n",
    "data_by_levels = load_data_prm800k(data_dir)\n",
    "\n",
    "\n",
    "# ds_completions = load_completions(completions_dir)\n",
    "\n",
    "# load random_seeds     \n",
    "# random_seeds = np.loadtxt(\"random_seeds.txt\").astype(\"int64\")\n",
    "# random_seeds = [int(seed) for seed in random_seeds]"
   ]
  },
  {
   "cell_type": "code",
   "execution_count": 8,
   "id": "97197039-298e-407e-ae80-876cc65dd7b2",
   "metadata": {},
   "outputs": [
    {
     "name": "stdout",
     "output_type": "stream",
     "text": [
      "num_questions = 128\n"
     ]
    }
   ],
   "source": [
    "level = '4'\n",
    "# num_questions = len(data_by_levels[level])\n",
    "# num_questions = 1\n",
    "num_trials = 1\n",
    "print(f\"num_questions = {num_questions}\")"
   ]
  },
  {
   "cell_type": "code",
   "execution_count": 14,
   "id": "457c29a6-0b47-42ef-91ce-720a6a30eb8f",
   "metadata": {},
   "outputs": [
    {
     "ename": "NameError",
     "evalue": "name 'extract_last_boxed_answer' is not defined",
     "output_type": "error",
     "traceback": [
      "\u001b[0;31m---------------------------------------------------------------------------\u001b[0m",
      "\u001b[0;31mNameError\u001b[0m                                 Traceback (most recent call last)",
      "Cell \u001b[0;32mIn[14], line 37\u001b[0m\n\u001b[1;32m     33\u001b[0m bon_dir \u001b[38;5;241m=\u001b[39m \u001b[38;5;124m\"\u001b[39m\u001b[38;5;124mresults/scores_bon_prm800k_level4_n16_v11.jsonl\u001b[39m\u001b[38;5;124m\"\u001b[39m \n\u001b[1;32m     34\u001b[0m sd_dir \u001b[38;5;241m=\u001b[39m \u001b[38;5;124m\"\u001b[39m\u001b[38;5;124mresults/scores_sd_prm800k_level4_n8_bw2_depth3_lam10_v11.jsonl\u001b[39m\u001b[38;5;124m\"\u001b[39m\n\u001b[1;32m     36\u001b[0m bon_results, bon_best_completions, bon_best_prm_scores, bon_pred_answers, bon_gt_answer \u001b[38;5;241m=\u001b[39m \\\n\u001b[0;32m---> 37\u001b[0m     \u001b[43mevaluate_correctness\u001b[49m\u001b[43m(\u001b[49m\u001b[43mbon_dir\u001b[49m\u001b[43m,\u001b[49m\u001b[43m \u001b[49m\u001b[43mdata_by_levels\u001b[49m\u001b[43m[\u001b[49m\u001b[43mlevel\u001b[49m\u001b[43m]\u001b[49m\u001b[43m,\u001b[49m\u001b[43m \u001b[49m\u001b[43mnum_trials\u001b[49m\u001b[43m)\u001b[49m\n\u001b[1;32m     38\u001b[0m \u001b[38;5;28mprint\u001b[39m(bon_results)\n",
      "Cell \u001b[0;32mIn[14], line 17\u001b[0m, in \u001b[0;36mevaluate_correctness\u001b[0;34m(data_dir, data_by_levels, num_trials)\u001b[0m\n\u001b[1;32m     15\u001b[0m best_idx \u001b[38;5;241m=\u001b[39m np\u001b[38;5;241m.\u001b[39margmax(trial_data[\u001b[38;5;124m'\u001b[39m\u001b[38;5;124magg_scores\u001b[39m\u001b[38;5;124m'\u001b[39m][q_idx])\n\u001b[1;32m     16\u001b[0m best_completion \u001b[38;5;241m=\u001b[39m trial_data[\u001b[38;5;124m'\u001b[39m\u001b[38;5;124mcompletions\u001b[39m\u001b[38;5;124m'\u001b[39m][q_idx][best_idx]\n\u001b[0;32m---> 17\u001b[0m pred_answer \u001b[38;5;241m=\u001b[39m \u001b[43mextract_last_boxed_answer\u001b[49m(best_completion)\n\u001b[1;32m     18\u001b[0m gt_answer \u001b[38;5;241m=\u001b[39m data_by_levels[q_idx][\u001b[38;5;124m'\u001b[39m\u001b[38;5;124manswer\u001b[39m\u001b[38;5;124m'\u001b[39m]\n\u001b[1;32m     19\u001b[0m is_correct \u001b[38;5;241m=\u001b[39m grader\u001b[38;5;241m.\u001b[39mgrade_answer(pred_answer, gt_answer)\n",
      "\u001b[0;31mNameError\u001b[0m: name 'extract_last_boxed_answer' is not defined"
     ]
    }
   ],
   "source": [
    "def evaluate_correctness(data_dir, data_by_levels, num_trials):\n",
    "    with open(data_dir, 'r', encoding='utf-8') as fin:\n",
    "        results = []\n",
    "        best_completions = []\n",
    "        best_prm_scores = []\n",
    "        pred_answers = []\n",
    "        gt_answers = []\n",
    "        trial_idx = 0\n",
    "        for line in fin:\n",
    "            if trial_idx >= num_trials:\n",
    "                break\n",
    "                \n",
    "            trial_data = json.loads(line)\n",
    "            for q_idx in range(len(data_by_levels)):\n",
    "                best_idx = np.argmax(trial_data['agg_scores'][q_idx])\n",
    "                best_completion = trial_data['completions'][q_idx][best_idx]\n",
    "                pred_answer = grader.extract_last_boxed_answer(best_completion)\n",
    "                gt_answer = data_by_levels[q_idx]['answer']\n",
    "                is_correct = grader.grade_answer(pred_answer, gt_answer)\n",
    "                print(f\"pred answer: {pred_answer}\")\n",
    "                print(f\"gt answer: {gt_answer}\")\n",
    "                print(f\"is correct: {is_correct}\")\n",
    "                print(f\"all scores = {trial_data['agg_scores'][q_idx]}\")\n",
    "                print(f\"best score = {trial_data['agg_scores'][q_idx][best_idx]}\")\n",
    "                results.append(q_idx)\n",
    "                best_completions.append(best_completion)\n",
    "                pred_answers.append(pred_answer)\n",
    "                gt_answers.append(gt_answer)\n",
    "                best_prm_scores.append(trial_data['agg_scores'][q_idx][best_idx])\n",
    "\n",
    "    return results, best_completions, best_prm_scores, pred_answers, gt_answer\n",
    "\n",
    "bon_dir = \"results/scores_bon_prm800k_level4_n16_v11.jsonl\" \n",
    "sd_dir = \"results/scores_sd_prm800k_level4_n8_bw2_depth3_lam10_v11.jsonl\"\n",
    "\n",
    "bon_results, bon_best_completions, bon_best_prm_scores, bon_pred_answers, bon_gt_answer = \\\n",
    "    evaluate_correctness(bon_dir, data_by_levels[level], num_trials)\n",
    "print(bon_results)"
   ]
  }
 ],
 "metadata": {
  "kernelspec": {
   "display_name": "py311",
   "language": "python",
   "name": "py311"
  },
  "language_info": {
   "codemirror_mode": {
    "name": "ipython",
    "version": 3
   },
   "file_extension": ".py",
   "mimetype": "text/x-python",
   "name": "python",
   "nbconvert_exporter": "python",
   "pygments_lexer": "ipython3",
   "version": "3.11.11"
  }
 },
 "nbformat": 4,
 "nbformat_minor": 5
}
