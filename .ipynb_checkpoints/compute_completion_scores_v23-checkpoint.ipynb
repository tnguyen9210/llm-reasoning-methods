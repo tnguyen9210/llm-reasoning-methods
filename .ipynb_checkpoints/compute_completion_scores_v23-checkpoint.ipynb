{
 "cells": [
  {
   "cell_type": "code",
   "execution_count": 1,
   "id": "51f10c28-3f2d-47c0-ace3-b7a5d1463ec4",
   "metadata": {},
   "outputs": [],
   "source": [
    "import os, psutil, gc\n",
    "import time \n",
    "import json\n",
    "import pprint\n",
    "\n",
    "from collections import defaultdict\n",
    "import random"
   ]
  },
  {
   "cell_type": "code",
   "execution_count": 2,
   "id": "e4cae36f-3789-45cf-9533-1842d3c71779",
   "metadata": {},
   "outputs": [],
   "source": [
    "import torch \n",
    "from transformers import AutoModelForCausalLM, AutoTokenizer\n",
    "from vllm import LLM, SamplingParams, PoolingParams\n",
    "\n",
    "from sal.config import Config\n",
    "from sal.models.reward_models import PRM\n",
    "from sal.utils.score import score, aggregate_scores\n",
    "\n",
    "from datasets import Dataset, load_dataset\n",
    "\n",
    "from core.reward_models import RLHFFlow\n",
    "\n",
    "from core import best_of_n\n",
    "from utils.load_data import load_data_prm800k"
   ]
  },
  {
   "cell_type": "code",
   "execution_count": 3,
   "id": "e24dfa33-ee28-4654-b0e1-24a1c4eff608",
   "metadata": {},
   "outputs": [],
   "source": [
    "# base_dir\n",
    "base_dir = '/groups/kjun/tnn/datasets/'\n",
    "\n",
    "# dataset path\n",
    "data_dir = base_dir + \"/prm800k/math_splits\"\n",
    "\n",
    "# llm and prm path\n",
    "llm_dir = base_dir + \"/Llama-3.2-1B-Instruct-GGUF/Llama-3.2-1B-Instruct.Q4_K_M.gguf\"\n",
    "prm_dir = base_dir + \"/Llama3.1-8B-PRM-Deepseek-Data-GGUF/Llama3.1-8B-PRM-Deepseek-Data.Q4_K_M.gguf\"\n",
    "\n",
    "llm_tokenizer_dir = base_dir + \"/Llama-3.2-1B-Instruct\"\n",
    "prm_tokenizer_dir = base_dir + \"/Llama3.1-8B-PRM-Deepseek-Data\""
   ]
  },
  {
   "cell_type": "code",
   "execution_count": 4,
   "id": "1b42d59a-2eb5-4be7-812a-e4705522df4c",
   "metadata": {},
   "outputs": [
    {
     "name": "stdout",
     "output_type": "stream",
     "text": [
      "GPUs = ['0', '1', '2', '3']\n"
     ]
    }
   ],
   "source": [
    "os.environ[\"CUDA_VISIBLE_DEVICES\"]=\"0,1,2,3\"\n",
    "if torch.cuda.is_available():\n",
    "    GPUs = os.environ.get('CUDA_VISIBLE_DEVICES', \"0\").split(',')\n",
    "    print(f\"GPUs = {GPUs}\")\n",
    "else:\n",
    "    print(\"CUDA is not available.\") "
   ]
  },
  {
   "cell_type": "code",
   "execution_count": 5,
   "id": "9a129354-c8ce-4c23-bef0-6684bb9d73e9",
   "metadata": {},
   "outputs": [
    {
     "data": {
      "application/vnd.jupyter.widget-view+json": {
       "model_id": "0bd9eacdebbb482187fc9efe81c3e590",
       "version_major": 2,
       "version_minor": 0
      },
      "text/plain": [
       "Loading checkpoint shards:   0%|          | 0/4 [00:00<?, ?it/s]"
      ]
     },
     "metadata": {},
     "output_type": "display_data"
    },
    {
     "name": "stdout",
     "output_type": "stream",
     "text": [
      "#--- memory: 0.0\n",
      "#--- memory: 14.95752763748169\n"
     ]
    }
   ],
   "source": [
    "prm = RLHFFlow(model_path=prm_tokenizer_dir, device_map='cuda:1')\n",
    "\n",
    "gc.collect();torch.cuda.empty_cache();\n",
    "print('#--- memory:', torch.cuda.memory_allocated(0)/(1024**3))\n",
    "print('#--- memory:', torch.cuda.memory_allocated(1)/(1024**3))\n",
    "# print('#--- memory:', torch.cuda.memory_allocated(2)/(1024**3))\n",
    "# print('#--- memory:', torch.cuda.memory_allocated(3)/(1024**3))"
   ]
  },
  {
   "cell_type": "code",
   "execution_count": 6,
   "id": "ac147209-6f17-4d7d-a94d-bdaeccbba42d",
   "metadata": {},
   "outputs": [
    {
     "name": "stdout",
     "output_type": "stream",
     "text": [
      "#--- memory: 0.0\n",
      "#--- memory: 14.95752763748169\n"
     ]
    }
   ],
   "source": [
    "# del(prm)\n",
    "gc.collect();torch.cuda.empty_cache();\n",
    "print('#--- memory:', torch.cuda.memory_allocated(0)/(1024**3))\n",
    "print('#--- memory:', torch.cuda.memory_allocated(1)/(1024**3))"
   ]
  },
  {
   "cell_type": "code",
   "execution_count": 14,
   "id": "81a4e1bf-b56b-4874-98cf-0ed225567369",
   "metadata": {},
   "outputs": [
    {
     "name": "stdout",
     "output_type": "stream",
     "text": [
      "1: 43\n",
      "2: 90\n",
      "3: 105\n",
      "4: 128\n",
      "5: 134\n",
      "Dataset({\n",
      "    features: ['problem', 'solution', 'answer', 'subject', 'level', 'unique_id'],\n",
      "    num_rows: 500\n",
      "})\n"
     ]
    }
   ],
   "source": [
    "config = Config()\n",
    "\n",
    "#  load data \n",
    "data_by_levels = load_data_prm800k(data_dir)\n",
    "# print(data_by_levels)\n",
    "\n",
    "orig_dataset = load_dataset(config.dataset_name, split=config.dataset_split, cache_dir=data_dir)\n",
    "print(orig_dataset)\n",
    "# stop\n",
    "# for data in dataset:\n",
    "#     pprint.pprint(data)\n",
    "#     stop\n",
    "# ds_completions = load_completions(completions_dir)\n",
    "\n",
    "# load random_seeds     \n",
    "# random_seeds = np.loadtxt(\"random_seeds.txt\").astype(\"int64\")\n",
    "# random_seeds = [int(seed) for seed in random_seeds]"
   ]
  },
  {
   "cell_type": "code",
   "execution_count": 59,
   "id": "97197039-298e-407e-ae80-876cc65dd7b2",
   "metadata": {},
   "outputs": [
    {
     "name": "stdout",
     "output_type": "stream",
     "text": [
      "num_questions = 128\n",
      "Dataset({\n",
      "    features: ['problem', 'solution', 'answer', 'subject', 'level', 'unique_id'],\n",
      "    num_rows: 128\n",
      "})\n",
      "[[0.0526123046875, 0.0618896484375, 0.042083740234375, 0.018829345703125, 0.175537109375, 0.9111328125, 0.034088134765625, 0.02801513671875], [0.57763671875, 0.57763671875, 0.5, 0.044677734375, 0.021942138671875, 0.021942138671875, 0.56591796875, 0.56591796875], [0.99951171875, 0.2120361328125, 0.9970703125, 0.96044921875, 0.658203125, 0.861328125, 0.97705078125, 0.98681640625], [0.99951171875, 0.99853515625, 0.89892578125, 0.93896484375, 0.26904296875, 0.9970703125, 0.978515625, 0.99755859375], [0.373779296875, 0.373779296875, 0.958984375, 0.89892578125, 0.57763671875, 0.861328125, 0.140380859375, 0.60009765625], [0.0263519287109375, 0.916015625, 0.9228515625, 0.974609375, 0.9072265625, 0.9970703125, 0.515625, 0.0838623046875], [0.955078125, 0.98583984375, 0.93798828125, 0.93798828125, 0.92919921875, 0.9990234375, 0.689453125, 0.689453125], [1.0, 1.0, 0.9990234375, 0.99951171875, 1.0, 1.0, 1.0, 1.0], [0.9833984375, 0.9833984375, 0.98828125, 0.845703125, 0.99365234375, 0.99951171875, 0.947265625, 0.947265625], [0.10089111328125, 0.1666259765625, 0.281494140625, 0.97802734375, 0.83984375, 0.96533203125, 0.43017578125, 0.43017578125], [0.049591064453125, 0.73095703125, 0.99951171875, 0.363037109375, 0.998046875, 0.82666015625, 0.9990234375, 0.449462890625], [0.546875, 0.64794921875, 0.935546875, 0.53125, 0.53125, 0.1259765625, 0.69287109375, 0.85009765625], [0.01322174072265625, 0.02801513671875, 0.02001953125, 0.02001953125, 0.0966796875, 0.95849609375, 0.98876953125, 0.9208984375], [0.281494140625, 0.951171875, 0.392333984375, 0.1602783203125, 0.32763671875, 0.52734375, 0.61865234375, 0.5849609375], [0.990234375, 0.99951171875, 0.99951171875, 0.99951171875, 0.99267578125, 0.99267578125, 0.994140625, 0.994140625], [0.9990234375, 0.99560546875, 0.09136962890625, 0.99755859375, 0.97509765625, 0.99951171875, 0.99951171875, 0.43017578125], [0.06951904296875, 0.5849609375, 0.9443359375, 0.708984375, 0.11920166015625, 0.158203125, 0.06658935546875, 0.307373046875], [0.982421875, 0.9951171875, 0.1778564453125, 0.1778564453125, 0.84375, 0.67236328125, 0.640625, 0.81298828125], [0.9990234375, 0.99951171875, 0.53515625, 0.53515625, 0.2509765625, 0.99609375, 0.08758544921875, 0.71875], [0.158203125, 0.71875, 0.978515625, 0.9990234375, 0.99951171875, 0.9677734375, 0.99658203125, 0.99755859375, 0.2393798828125], [0.035675048828125, 0.1365966796875, 0.87890625, 0.5849609375, 0.92626953125, 0.9990234375, 0.6513671875, 0.64794921875], [1.0, 1.0, 0.9990234375, 1.0, 0.9912109375, 0.98876953125, 1.0, 0.42626953125], [0.10821533203125, 0.17333984375, 0.99169921875, 0.403564453125, 0.87255859375, 0.7216796875, 0.3173828125, 0.80078125], [0.71240234375, 0.7744140625, 0.841796875, 0.4609375, 0.02886962890625, 0.39599609375, 0.90869140625, 0.85009765625], [0.9775390625, 0.9775390625, 0.9912109375, 0.4072265625, 0.7607421875, 0.7607421875, 0.9970703125, 0.998046875], [0.900390625, 0.388671875, 0.986328125, 0.9482421875, 0.5546875, 0.5546875, 0.262939453125, 0.262939453125], [0.9970703125, 0.31396484375, 0.4765625, 0.99462890625, 0.99755859375, 0.99072265625, 0.9970703125, 0.98876953125], [0.0255584716796875, 0.99853515625, 0.99951171875, 0.9970703125, 0.9033203125, 0.99853515625, 0.06561279296875, 0.07159423828125], [0.030670166015625, 0.66552734375, 0.54296875, 0.658203125, 0.5390625, 0.55810546875, 0.29736328125, 0.6689453125], [0.9365234375, 0.9365234375, 0.025177001953125, 0.9970703125, 0.11920166015625, 0.1871337890625, 0.0863037109375, 0.99462890625], [0.0263519287109375, 0.73388671875, 0.73388671875, 0.99951171875, 0.9970703125, 0.9990234375, 1.0, 0.99853515625, 0.5546875], [0.99658203125, 0.60400390625, 0.9072265625, 0.158203125, 0.55078125, 0.880859375, 0.966796875, 0.966796875], [0.63330078125, 0.966796875, 0.2147216796875, 0.058349609375, 0.9794921875, 0.98876953125, 0.07159423828125, 0.955078125], [0.640625, 0.994140625, 0.87890625, 0.94970703125, 0.10968017578125, 0.94873046875, 0.951171875, 0.998046875], [0.9931640625, 0.12249755859375, 0.99609375, 0.05108642578125, 0.090087890625, 0.99755859375, 0.06951904296875, 0.04742431640625], [0.82421875, 0.82421875, 0.8173828125, 0.8173828125, 0.3701171875, 0.3701171875, 0.046722412109375, 0.6826171875], [0.9326171875, 0.9921875, 0.9970703125, 0.99853515625, 0.98974609375, 0.99609375, 0.921875, 0.974609375], [0.99560546875, 0.98828125, 0.99951171875, 0.888671875, 0.98193359375, 0.943359375, 0.9951171875, 0.9990234375], [0.9931640625, 1.0, 0.96533203125, 0.1602783203125, 0.98876953125, 0.99365234375, 0.9970703125, 0.947265625], [0.9931640625, 0.83544921875, 0.97265625, 0.96337890625, 0.99951171875, 0.99365234375, 0.99658203125, 0.99755859375], [0.0618896484375, 0.063720703125, 0.43017578125, 0.94091796875, 0.58154296875, 0.8056640625, 0.91845703125, 0.3173828125, 0.106689453125], [0.97265625, 0.98779296875, 0.99560546875, 0.99755859375, 0.974609375, 0.974609375, 0.990234375, 0.99951171875], [0.93701171875, 0.94091796875, 0.08880615234375, 0.990234375, 0.83740234375, 0.33447265625, 0.76904296875, 0.437744140625], [0.5234375, 0.5234375, 0.9775390625, 0.78271484375, 0.9970703125, 0.9921875, 0.92626953125, 0.974609375], [0.042083740234375, 0.08038330078125, 0.763671875, 0.19677734375, 0.00885009765625, 0.007232666015625, 0.99951171875, 0.99560546875], [0.403564453125, 0.99462890625, 0.25390625, 0.99755859375, 0.896484375, 0.640625, 0.36669921875, 0.16455078125], [0.9072265625, 0.9072265625, 0.3173828125, 0.984375, 0.90185546875, 0.9033203125, 0.87060546875, 0.87060546875], [0.8310546875, 0.0311431884765625, 0.10821533203125, 0.91748046875, 0.8154296875, 0.91943359375, 0.888671875, 0.888671875], [0.615234375, 0.90185546875, 0.82666015625, 0.275146484375, 0.2254638671875, 0.36669921875, 0.355712890625, 0.11279296875], [0.865234375, 0.8154296875, 0.0247955322265625, 0.1602783203125, 0.9951171875, 0.158203125, 0.77978515625, 0.5078125], [0.05419921875, 0.88232421875, 0.46484375, 0.5849609375, 0.102294921875, 0.751953125, 0.91943359375, 0.56982421875], [0.67236328125, 0.67236328125, 0.896484375, 0.91943359375, 0.978515625, 0.65478515625, 0.96044921875, 0.96630859375], [0.359375, 0.338134765625, 0.27197265625, 0.27197265625, 0.85791015625, 0.85791015625, 0.65478515625, 0.403564453125], [0.751953125, 0.341552734375, 0.51953125, 0.9833984375, 0.79296875, 0.79296875, 0.0850830078125, 0.09136962890625], [0.955078125, 0.9736328125, 0.4765625, 0.5849609375, 0.307373046875, 0.5078125, 0.96826171875, 0.64794921875], [0.990234375, 0.99951171875, 0.85009765625, 0.99755859375, 1.0, 0.9990234375, 1.0, 1.0], [0.71875, 0.99072265625, 0.56982421875, 0.32080078125, 0.99560546875, 0.689453125, 0.9892578125, 0.92919921875], [0.99609375, 0.64404296875, 0.048126220703125, 0.97509765625, 0.99560546875, 0.16455078125, 0.99365234375, 0.71533203125], [0.99755859375, 1.0, 0.99169921875, 0.6513671875, 0.99951171875, 1.0, 1.0, 0.93798828125], [0.002471923828125, 0.020965576171875, 0.020965576171875, 0.71240234375, 0.1259765625, 0.49609375, 0.0618896484375, 0.841796875, 0.5546875], [0.020965576171875, 0.020965576171875, 0.70556640625, 0.9677734375, 0.9111328125, 0.9111328125, 0.138427734375, 0.30078125], [0.48828125, 0.48828125, 0.943359375, 0.970703125, 0.2783203125, 0.414794921875, 0.4072265625, 0.7578125], [0.0191192626953125, 0.7373046875, 0.5390625, 0.093994140625, 0.2568359375, 0.96630859375, 0.2421875, 0.182373046875, 0.33447265625], [0.99267578125, 0.1441650390625, 0.287841796875, 0.8916015625, 0.6298828125, 0.99267578125, 0.182373046875, 0.98388671875], [1.0, 1.0, 1.0, 0.9814453125, 0.978515625, 0.9755859375, 1.0, 1.0], [1.0, 0.85205078125, 0.99755859375, 0.9951171875, 0.9970703125, 1.0, 1.0, 0.99609375], [0.10821533203125, 0.53125, 0.7958984375, 0.7431640625, 0.9912109375, 0.9716796875, 0.08154296875, 0.978515625], [0.291015625, 0.98876953125, 0.689453125, 0.7431640625, 0.1259765625, 0.98779296875, 0.99609375, 0.94091796875], [0.9990234375, 0.98388671875, 0.99853515625, 0.99951171875, 0.9970703125, 0.99951171875, 0.204345703125, 0.204345703125], [0.99609375, 0.0726318359375, 0.99951171875, 0.0966796875, 0.9892578125, 0.98974609375, 0.0325927734375, 0.026763916015625], [0.9755859375, 0.98828125, 0.12249755859375, 0.1500244140625, 0.34521484375, 0.96728515625, 0.90185546875, 0.82666015625], [0.34521484375, 0.36669921875, 0.71875, 0.85400390625, 0.7216796875, 0.363037109375, 0.42626953125, 0.97265625], [0.93701171875, 0.90185546875, 0.931640625, 0.931640625, 0.62255859375, 0.62255859375, 0.044677734375, 0.947265625], [0.998046875, 0.9873046875, 0.88720703125, 0.974609375, 0.47265625, 0.9892578125, 0.8857421875, 0.99658203125], [0.9658203125, 0.69580078125, 0.11279296875, 0.403564453125, 0.9306640625, 0.9306640625, 0.1312255859375, 0.916015625], [0.99462890625, 0.99609375, 0.1710205078125, 0.044677734375, 0.127685546875, 0.2017822265625, 0.98388671875, 0.5888671875], [0.9482421875, 0.98046875, 0.81982421875, 0.99658203125, 0.5078125, 0.5078125, 0.7744140625, 0.60009765625], [0.8154296875, 0.7373046875, 0.22265625, 0.53125, 0.5234375, 0.3310546875, 0.7607421875, 0.25390625], [0.1441650390625, 0.127685546875, 0.99365234375, 0.29736328125, 0.26904296875, 0.5390625, 0.998046875, 0.17333984375], [0.72802734375, 0.61865234375, 0.307373046875, 0.43017578125, 0.6513671875, 0.5849609375, 0.1993408203125, 0.8916015625], [0.88427734375, 0.88427734375, 0.98974609375, 0.84375, 0.8857421875, 0.96875, 0.54296875, 0.54296875], [0.8173828125, 0.51953125, 0.53125, 0.54296875, 0.392333984375, 0.99853515625, 0.22265625, 0.4111328125], [0.607421875, 0.72802734375, 0.97607421875, 0.97607421875, 0.9892578125, 0.99560546875, 0.98876953125, 0.9892578125], [0.966796875, 0.99609375, 0.98876953125, 0.998046875, 0.951171875, 0.85205078125, 0.998046875, 0.99755859375], [0.6513671875, 0.6513671875, 0.9326171875, 0.58154296875, 0.56591796875, 0.56591796875, 0.70263671875, 0.986328125], [0.0271759033203125, 0.71533203125, 0.1943359375, 0.77734375, 0.80810546875, 0.307373046875, 0.99609375, 0.0255584716796875], [0.8759765625, 0.8759765625, 0.60400390625, 0.60400390625, 0.55078125, 0.04742431640625, 0.039642333984375, 0.78271484375], [1.0, 0.9970703125, 1.0, 1.0, 0.994140625, 1.0, 0.998046875, 1.0], [0.958984375, 0.958984375, 0.2017822265625, 0.6298828125, 0.127685546875, 0.0236968994140625, 0.1365966796875, 0.7607421875], [0.093994140625, 0.59619140625, 0.7490234375, 0.10089111328125, 0.78271484375, 0.67236328125, 0.96826171875, 0.373779296875], [0.97265625, 0.93896484375, 0.9345703125, 0.935546875, 0.51171875, 0.986328125, 0.259765625, 0.98095703125], [0.9990234375, 0.9970703125, 0.99853515625, 0.99951171875, 0.08038330078125, 0.998046875, 0.96337890625, 0.85986328125], [0.98388671875, 0.7216796875, 0.9990234375, 0.99951171875, 0.99853515625, 0.77734375, 0.96435546875, 0.96435546875], [0.99755859375, 0.8154296875, 0.67578125, 0.67919921875, 0.77734375, 0.9951171875, 0.708984375, 0.708984375], [0.6259765625, 0.546875, 0.96044921875, 0.640625, 0.8974609375, 0.363037109375, 0.248046875, 0.25390625], [1.0, 1.0, 0.99658203125, 1.0, 0.99951171875, 0.99853515625, 0.1688232421875, 0.1441650390625], [0.9912109375, 0.92431640625, 0.9970703125, 0.9853515625, 0.1710205078125, 0.7578125, 0.6513671875, 0.9931640625], [0.0966796875, 0.79052734375, 0.8291015625, 0.31396484375, 0.441650390625, 0.658203125, 0.2120361328125, 0.88720703125], [0.414794921875, 0.79833984375, 0.6689453125, 0.82666015625, 0.33447265625, 0.33447265625, 0.74609375, 0.74609375], [0.060089111328125, 0.060089111328125, 0.16455078125, 0.355712890625, 0.7578125, 0.4609375, 0.76904296875, 0.935546875], [0.98486328125, 0.9853515625, 0.763671875, 0.982421875, 0.974609375, 0.97509765625, 0.900390625, 0.986328125], [0.99951171875, 0.99755859375, 1.0, 0.81982421875, 0.9970703125, 0.9970703125, 0.99951171875, 0.99951171875], [0.9619140625, 0.99609375, 0.9423828125, 0.33447265625, 0.2393798828125, 0.998046875, 0.2509765625, 0.88720703125], [0.978515625, 0.8310546875, 0.86865234375, 0.96435546875, 0.86328125, 0.98291015625, 0.53515625, 0.861328125], [0.76611328125, 0.59619140625, 0.287841796875, 0.48828125, 0.127685546875, 0.127685546875, 0.810546875, 0.127685546875], [0.87060546875, 0.9951171875, 0.359375, 0.9892578125, 0.92724609375, 0.86328125, 0.994140625, 0.79833984375], [0.8173828125, 0.6689453125, 0.7880859375, 0.71533203125, 0.79833984375, 0.71875, 0.5888671875, 0.63720703125], [0.338134765625, 0.98779296875, 0.974609375, 0.822265625, 0.841796875, 0.9990234375, 0.97802734375, 0.9423828125, 0.99365234375], [0.9970703125, 0.6513671875, 1.0, 0.42626953125, 0.99853515625, 1.0, 0.98876953125, 1.0], [0.99951171875, 0.99951171875, 0.9990234375, 0.9990234375, 1.0, 1.0, 0.9990234375, 1.0], [0.9951171875, 0.281494140625, 0.1943359375, 0.94677734375, 0.998046875, 0.98583984375, 0.9951171875, 0.9755859375], [0.83984375, 0.16455078125, 0.515625, 0.515625, 0.91357421875, 0.1993408203125, 0.97314453125, 0.5888671875], [0.99951171875, 0.98291015625, 0.99365234375, 0.9990234375, 0.9921875, 0.9921875, 0.9990234375, 0.9990234375], [0.78515625, 0.98046875, 0.281494140625, 0.281494140625, 0.30078125, 0.90966796875, 0.12249755859375, 0.445556640625], [0.90966796875, 0.99560546875, 0.9365234375, 0.48828125, 0.60400390625, 0.60400390625, 0.962890625, 0.953125], [0.546875, 0.5234375, 0.66552734375, 0.921875, 0.22265625, 0.515625, 0.96142578125, 0.53515625], [0.998046875, 0.763671875, 0.8740234375, 0.5, 0.0330810546875, 0.916015625, 0.85009765625, 0.60009765625], [0.9990234375, 1.0, 0.98388671875, 0.43017578125, 0.99951171875, 1.0, 0.7431640625, 0.392333984375], [0.99755859375, 0.99853515625, 0.95751953125, 0.9990234375, 0.990234375, 0.990234375, 0.99951171875, 1.0], [0.49609375, 0.99365234375, 0.763671875, 0.955078125, 0.888671875, 0.9990234375, 0.998046875, 0.998046875], [0.33447265625, 0.33447265625, 0.050323486328125, 0.71533203125, 0.70556640625, 0.70556640625, 0.9111328125, 0.79296875], [1.0, 0.95458984375, 0.98291015625, 0.88427734375, 0.91845703125, 0.9423828125, 0.896484375, 0.303955078125], [0.39990234375, 0.39990234375, 0.262939453125, 0.262939453125, 0.62255859375, 0.62255859375, 0.027587890625, 0.027587890625], [0.99609375, 0.99951171875, 0.99951171875, 0.99951171875, 0.99951171875, 0.99609375, 0.9990234375, 0.99951171875], [0.98779296875, 0.98779296875, 0.978515625, 0.96923828125, 0.99755859375, 0.453369140625, 0.99951171875, 0.9638671875], [0.9990234375, 0.99951171875, 0.99951171875, 0.99267578125, 0.9814453125, 1.0, 0.9921875, 1.0], [0.841796875, 0.392333984375, 0.8974609375, 0.9345703125, 0.2421875, 0.134765625, 0.281494140625, 0.138427734375], [0.275146484375, 0.06854248046875, 0.140380859375, 0.4072265625, 0.1329345703125, 0.1329345703125, 0.82666015625, 0.88232421875]]\n",
      "2\n",
      "Dataset({\n",
      "    features: ['problem', 'solution', 'answer', 'subject', 'level', 'unique_id', 'completions', 'scores'],\n",
      "    num_rows: 128\n",
      "})\n"
     ]
    },
    {
     "data": {
      "application/vnd.jupyter.widget-view+json": {
       "model_id": "b73bdee047ce45ff9148e3f980b85538",
       "version_major": 2,
       "version_minor": 0
      },
      "text/plain": [
       "Map:   0%|          | 0/128 [00:00<?, ? examples/s]"
      ]
     },
     "metadata": {},
     "output_type": "display_data"
    },
    {
     "name": "stdout",
     "output_type": "stream",
     "text": [
      "[4, 8]\n"
     ]
    },
    {
     "name": "stderr",
     "output_type": "stream",
     "text": [
      "Computing majority & weighted predictions:   0%|          | 0/2 [00:00<?, ?it/s]"
     ]
    },
    {
     "data": {
      "application/vnd.jupyter.widget-view+json": {
       "model_id": "7948c65466104ff4bd8644b1274faa6b",
       "version_major": 2,
       "version_minor": 0
      },
      "text/plain": [
       "Subsample 4 (num_proc=12):   0%|          | 0/128 [00:00<?, ? examples/s]"
      ]
     },
     "metadata": {},
     "output_type": "display_data"
    },
    {
     "data": {
      "application/vnd.jupyter.widget-view+json": {
       "model_id": "4e363745c8814e71b47827c81d7680a0",
       "version_major": 2,
       "version_minor": 0
      },
      "text/plain": [
       "Extract answers 4 (num_proc=12):   0%|          | 0/128 [00:00<?, ? examples/s]"
      ]
     },
     "metadata": {},
     "output_type": "display_data"
    },
    {
     "data": {
      "application/vnd.jupyter.widget-view+json": {
       "model_id": "e16099507bd442ceab4961685a7f318f",
       "version_major": 2,
       "version_minor": 0
      },
      "text/plain": [
       "Compute weighted pred 4 (num_proc=12):   0%|          | 0/128 [00:00<?, ? examples/s]"
      ]
     },
     "metadata": {},
     "output_type": "display_data"
    },
    {
     "data": {
      "application/vnd.jupyter.widget-view+json": {
       "model_id": "1fa3ef9f3fee420f88c6c883db907b4a",
       "version_major": 2,
       "version_minor": 0
      },
      "text/plain": [
       "Compute majority pred 4 (num_proc=12):   0%|          | 0/128 [00:00<?, ? examples/s]"
      ]
     },
     "metadata": {},
     "output_type": "display_data"
    },
    {
     "data": {
      "application/vnd.jupyter.widget-view+json": {
       "model_id": "7c946b0204724dad95fed3792836ef40",
       "version_major": 2,
       "version_minor": 0
      },
      "text/plain": [
       "Compute naive pred 4 (num_proc=12):   0%|          | 0/128 [00:00<?, ? examples/s]"
      ]
     },
     "metadata": {},
     "output_type": "display_data"
    },
    {
     "name": "stderr",
     "output_type": "stream",
     "text": [
      "Computing majority & weighted predictions:  50%|█████     | 1/2 [00:03<00:03,  3.42s/it]"
     ]
    },
    {
     "name": "stdout",
     "output_type": "stream",
     "text": [
      "Dataset({\n",
      "    features: ['problem', 'solution', 'answer', 'subject', 'level', 'unique_id', 'completions', 'scores', 'agg_scores', 'completions@4', 'agg_scores@4', 'preds@4', 'pred_weighted@4', 'pred_maj@4', 'pred_naive@4'],\n",
      "    num_rows: 128\n",
      "})\n"
     ]
    },
    {
     "data": {
      "application/vnd.jupyter.widget-view+json": {
       "model_id": "53d604ed5cbe4d8ab6de9b34da3d5345",
       "version_major": 2,
       "version_minor": 0
      },
      "text/plain": [
       "Subsample 8 (num_proc=12):   0%|          | 0/128 [00:00<?, ? examples/s]"
      ]
     },
     "metadata": {},
     "output_type": "display_data"
    },
    {
     "data": {
      "application/vnd.jupyter.widget-view+json": {
       "model_id": "cdaf66b17a1f45309c61cb4dc8aed188",
       "version_major": 2,
       "version_minor": 0
      },
      "text/plain": [
       "Extract answers 8 (num_proc=12):   0%|          | 0/128 [00:00<?, ? examples/s]"
      ]
     },
     "metadata": {},
     "output_type": "display_data"
    },
    {
     "data": {
      "application/vnd.jupyter.widget-view+json": {
       "model_id": "ab034e9483c04ab8bc7801d42e1b9b10",
       "version_major": 2,
       "version_minor": 0
      },
      "text/plain": [
       "Compute weighted pred 8 (num_proc=12):   0%|          | 0/128 [00:00<?, ? examples/s]"
      ]
     },
     "metadata": {},
     "output_type": "display_data"
    },
    {
     "data": {
      "application/vnd.jupyter.widget-view+json": {
       "model_id": "8c39222f2849417cb802ffc50c6efce4",
       "version_major": 2,
       "version_minor": 0
      },
      "text/plain": [
       "Compute majority pred 8 (num_proc=12):   0%|          | 0/128 [00:00<?, ? examples/s]"
      ]
     },
     "metadata": {},
     "output_type": "display_data"
    },
    {
     "data": {
      "application/vnd.jupyter.widget-view+json": {
       "model_id": "154521feae4b4e2a8bae58a5bd4787bf",
       "version_major": 2,
       "version_minor": 0
      },
      "text/plain": [
       "Compute naive pred 8 (num_proc=12):   0%|          | 0/128 [00:00<?, ? examples/s]"
      ]
     },
     "metadata": {},
     "output_type": "display_data"
    },
    {
     "name": "stderr",
     "output_type": "stream",
     "text": [
      "Computing majority & weighted predictions: 100%|██████████| 2/2 [00:08<00:00,  4.18s/it]"
     ]
    },
    {
     "name": "stdout",
     "output_type": "stream",
     "text": [
      "Dataset({\n",
      "    features: ['problem', 'solution', 'answer', 'subject', 'level', 'unique_id', 'completions', 'scores', 'agg_scores', 'pred_weighted@4', 'pred_maj@4', 'pred_naive@4', 'completions@8', 'agg_scores@8', 'preds@8', 'pred_weighted@8', 'pred_maj@8', 'pred_naive@8'],\n",
      "    num_rows: 128\n",
      "})\n"
     ]
    },
    {
     "name": "stderr",
     "output_type": "stream",
     "text": [
      "\n"
     ]
    },
    {
     "data": {
      "application/vnd.jupyter.widget-view+json": {
       "model_id": "5fd8954aac9d41bfa9771abde5926709",
       "version_major": 2,
       "version_minor": 0
      },
      "text/plain": [
       "Uploading the dataset shards:   0%|          | 0/1 [00:00<?, ?it/s]"
      ]
     },
     "metadata": {},
     "output_type": "display_data"
    },
    {
     "data": {
      "application/vnd.jupyter.widget-view+json": {
       "model_id": "c7fcb8fa4b3d4e95976e75a85af38cfc",
       "version_major": 2,
       "version_minor": 0
      },
      "text/plain": [
       "Creating parquet from Arrow format:   0%|          | 0/1 [00:00<?, ?ba/s]"
      ]
     },
     "metadata": {},
     "output_type": "display_data"
    },
    {
     "data": {
      "application/vnd.jupyter.widget-view+json": {
       "model_id": "f0b53658591b4dd795e61e0ce3fc4497",
       "version_major": 2,
       "version_minor": 0
      },
      "text/plain": [
       "README.md:   0%|          | 0.00/19.0k [00:00<?, ?B/s]"
      ]
     },
     "metadata": {},
     "output_type": "display_data"
    },
    {
     "data": {
      "application/vnd.jupyter.widget-view+json": {
       "model_id": "aacf09ef804d4fd685f22b73b0dc3eea",
       "version_major": 2,
       "version_minor": 0
      },
      "text/plain": [
       "Creating json from Arrow format:   0%|          | 0/1 [00:00<?, ?ba/s]"
      ]
     },
     "metadata": {},
     "output_type": "display_data"
    },
    {
     "name": "stdout",
     "output_type": "stream",
     "text": [
      "it takes 369.0821s in total\n"
     ]
    }
   ],
   "source": [
    "# general params\n",
    "config = Config()\n",
    "config.agg_strategy = 'last'\n",
    "config.n = 8\n",
    "config.beam_width = 2\n",
    "config.lookahead = 0\n",
    "config.num_iterations = 2\n",
    "config.sort_completed = False\n",
    "\n",
    "# diverse_select params\n",
    "config.lam = 10\n",
    "config.normalize_embeds = True\n",
    "\n",
    "config.num_proc = 12 \n",
    "\n",
    "dataset_id = \"tnguyen9210/LLM-Reasoning-Math-500\"\n",
    "level = '4'\n",
    "num_questions = len(data_by_levels[level])\n",
    "# num_questions = 2\n",
    "num_trials = 1\n",
    "print(f\"num_questions = {num_questions}\")\n",
    "\n",
    "# get batch of questions\n",
    "batch_of_questions = [data_by_levels[level][q_idx]['problem'] for q_idx in range(num_questions)]\n",
    "orig_dataset_by_level = orig_dataset.filter(lambda example: example['level'] == int(level))\n",
    "orig_dataset_by_level = orig_dataset_by_level.select(range(num_questions))\n",
    "print(orig_dataset_by_level)\n",
    "# for data in orig_dataset_by_level:\n",
    "#     print(data)\n",
    "\n",
    "# load completions\n",
    "config_name  = f\"sd_prm800k_level{level}_n{config.n}_bw{config.beam_width}_depth{config.num_iterations}_lam{config.lam}_{config.normalize_embeds}_v11\"\n",
    "completions_dir = f\"results/generate_{config_name}.jsonl\"\n",
    "scores_dir = f\"results/scores_{config_name}.jsonl\"\n",
    "\n",
    "# compute results\n",
    "start_time = time.time()    \n",
    "with open(completions_dir, 'r', encoding = 'utf-8') as fin:\n",
    "    trial_idx = 0\n",
    "    for line in fin:\n",
    "        \n",
    "        if trial_idx >= num_trials:\n",
    "            break\n",
    "            \n",
    "        trial_data = json.loads(line)\n",
    "\n",
    "        # Compute the scores of completions\n",
    "        # print(len(trial_data[\"completions\"]))\n",
    "        # print(len(batch_of_questions))\n",
    "        # print(trial_data[\"completions\"][0][0])\n",
    "        scores = prm.score(batch_of_questions, trial_data[\"completions\"][:num_questions])\n",
    "        agg_scores = [\n",
    "            [aggregate_scores(s, config.agg_strategy) for s in score] for score in scores\n",
    "        ]\n",
    "        print(agg_scores)\n",
    "        print((len(trial_data)))\n",
    "        orig_dataset_by_level = orig_dataset_by_level.add_column(\"completions\", trial_data[\"completions\"][:num_questions])\n",
    "        orig_dataset_by_level = orig_dataset_by_level.add_column(\"scores\", scores)\n",
    "        print(orig_dataset_by_level)\n",
    "\n",
    "        # for data in orig_dataset_by_level:\n",
    "        #     print(data.keys())\n",
    "            # print(data[\"completions\"])\n",
    "                \n",
    "        orig_dataset_by_level = score(orig_dataset_by_level, config)\n",
    "        # for data in orig_dataset_by_level:\n",
    "        #     print(data)\n",
    "        #     stop\n",
    "\n",
    "        config_name = f\"sd--n-{config.n}--bw-{config.beam_width}--depth-{config.num_iterations}--lam-{config.lam}--{config.normalize_embeds}--level-{level}--trial-{trial_idx}--v11\"\n",
    "        orig_dataset_by_level.push_to_hub(dataset_id, config_name=config_name, split='test')\n",
    "        orig_dataset_by_level.to_json(f\"results/{config_name}.jsonl\")\n",
    "        \n",
    "        # # compute the time\n",
    "        # if trial_idx % 1 == 0:\n",
    "        #     total_time = time.time() - start_time\n",
    "        #     time_per_trial = total_time/(trial_idx+1)\n",
    "        #     time_per_question = time_per_trial/num_questions\n",
    "        #     print(f\"trial {trial_idx}\")\n",
    "        #     print(f\"it takes {time_per_question:0.4f}s per question\")\n",
    "        #     print(f\"it takes {time_per_trial:0.4f}s per trial\")\n",
    "\n",
    "        # # x = defaultdict()\n",
    "        # # x[\"problem\"] = tri\n",
    "        trial_idx += 1\n",
    "        \n",
    "\n",
    "total_time = time.time() - start_time\n",
    "print(f\"it takes {total_time:0.4f}s in total\")"
   ]
  },
  {
   "cell_type": "code",
   "execution_count": 52,
   "id": "1224bdaa-2f21-4aaa-8b9d-2c1182bef68f",
   "metadata": {},
   "outputs": [
    {
     "data": {
      "application/vnd.jupyter.widget-view+json": {
       "model_id": "ab4239ce7e4a49ad8e335f3090d44954",
       "version_major": 2,
       "version_minor": 0
      },
      "text/plain": [
       "Uploading the dataset shards:   0%|          | 0/1 [00:00<?, ?it/s]"
      ]
     },
     "metadata": {},
     "output_type": "display_data"
    },
    {
     "data": {
      "application/vnd.jupyter.widget-view+json": {
       "model_id": "008f389e9d0448d1a17b91dd4a919ec5",
       "version_major": 2,
       "version_minor": 0
      },
      "text/plain": [
       "Creating parquet from Arrow format:   0%|          | 0/1 [00:00<?, ?ba/s]"
      ]
     },
     "metadata": {},
     "output_type": "display_data"
    },
    {
     "data": {
      "application/vnd.jupyter.widget-view+json": {
       "model_id": "1461a5c8ede64dc890c8fd50e3c7988c",
       "version_major": 2,
       "version_minor": 0
      },
      "text/plain": [
       "README.md:   0%|          | 0.00/16.0k [00:00<?, ?B/s]"
      ]
     },
     "metadata": {},
     "output_type": "display_data"
    },
    {
     "data": {
      "application/vnd.jupyter.widget-view+json": {
       "model_id": "806f1c03de424ae4b309ab9ceb0301e4",
       "version_major": 2,
       "version_minor": 0
      },
      "text/plain": [
       "Creating json from Arrow format:   0%|          | 0/1 [00:00<?, ?ba/s]"
      ]
     },
     "metadata": {},
     "output_type": "display_data"
    },
    {
     "data": {
      "text/plain": [
       "43293"
      ]
     },
     "execution_count": 52,
     "metadata": {},
     "output_type": "execute_result"
    }
   ],
   "source": [
    "dataset_id = \"tnguyen9210/LLM-Reasoning-Math-500\"\n",
    "orig_dataset_by_level.push_to_hub(dataset_id, config_name=config_name, split='test')\n",
    "orig_dataset_by_level.to_json(f\"results/{config_name}.jsonl\")"
   ]
  }
 ],
 "metadata": {
  "kernelspec": {
   "display_name": "py311",
   "language": "python",
   "name": "py311"
  },
  "language_info": {
   "codemirror_mode": {
    "name": "ipython",
    "version": 3
   },
   "file_extension": ".py",
   "mimetype": "text/x-python",
   "name": "python",
   "nbconvert_exporter": "python",
   "pygments_lexer": "ipython3",
   "version": "3.11.11"
  }
 },
 "nbformat": 4,
 "nbformat_minor": 5
}
