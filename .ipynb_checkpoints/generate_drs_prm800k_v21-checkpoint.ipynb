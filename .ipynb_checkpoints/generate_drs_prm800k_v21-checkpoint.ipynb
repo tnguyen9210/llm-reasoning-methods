{
 "cells": [
  {
   "cell_type": "code",
   "execution_count": 1,
   "id": "377db697-470b-4157-b1cc-dad33550763c",
   "metadata": {},
   "outputs": [],
   "source": [
    "'''\n",
    "Apply multiprocessing to  _select_diverse function to efficiently handle batches of beams across multiple questions.\n",
    "'''\n",
    "\n",
    "import os, psutil, gc\n",
    "import time \n",
    "import json\n",
    "import pprint\n",
    "import copy \n",
    "\n",
    "from collections import defaultdict\n",
    "import random\n",
    "import numpy as np\n",
    "\n",
    "import multiprocessing as mp\n",
    "\n",
    "from dataclasses import dataclass"
   ]
  },
  {
   "cell_type": "code",
   "execution_count": 2,
   "id": "d81dea19-ed66-4a38-9e93-dd39d877ef47",
   "metadata": {},
   "outputs": [],
   "source": [
    "import torch \n",
    "from torch.nn import CrossEntropyLoss\n",
    "import torch.nn.functional as F\n",
    "import torch.distributed as dist\n",
    "from transformers import AutoModelForCausalLM, AutoTokenizer\n",
    "from vllm import LLM, SamplingParams, PoolingParams\n",
    "\n",
    "from sal.config import Config\n",
    "from sal.search.utils import build_conv, generate_k_steps, last\n",
    "from sal.utils.score import aggregate_scores\n",
    "\n",
    "# from core import select_diverse_v31\n",
    "from core.reward_models import RLHFFlow\n",
    "\n",
    "from utils.load_data import load_data_prm800k"
   ]
  },
  {
   "cell_type": "code",
   "execution_count": 3,
   "id": "689d7873-a655-43ef-89e0-5bcd583f63cd",
   "metadata": {},
   "outputs": [
    {
     "name": "stdout",
     "output_type": "stream",
     "text": [
      "['0', '1', '2', '3']\n"
     ]
    }
   ],
   "source": [
    "if torch.cuda.is_available():\n",
    "    GPUS = os.environ.get('CUDA_VISIBLE_DEVICES', \"0\").split(',')\n",
    "    print(GPUS)\n",
    "else:\n",
    "    print(\"CUDA is not available.\")\n",
    "os.environ[\"TOKENIZERS_PARALLELISM\"] = \"false\""
   ]
  },
  {
   "cell_type": "code",
   "execution_count": 4,
   "id": "d8c27af7-1c68-40c2-9366-5984d581a245",
   "metadata": {},
   "outputs": [],
   "source": [
    "# base_dir\n",
    "base_dir = '/groups/kjun/tnn/datasets/'\n",
    "\n",
    "# dataset path\n",
    "data_dir = base_dir + \"/prm800k/math_splits\"\n",
    "\n",
    "# llm and prm path\n",
    "llm_dir = base_dir + \"/Llama-3.2-1B-Instruct-GGUF/Llama-3.2-1B-Instruct.Q4_K_M.gguf\"\n",
    "prm_dir = base_dir + \"/Llama3.1-8B-PRM-Deepseek-Data-GGUF/Llama3.1-8B-PRM-Deepseek-Data.Q4_K_M.gguf\"\n",
    "\n",
    "llm_tokenizer_dir = base_dir + \"/Llama-3.2-1B-Instruct\"\n",
    "prm_tokenizer_dir = base_dir + \"/Llama3.1-8B-PRM-Deepseek-Data\""
   ]
  },
  {
   "cell_type": "code",
   "execution_count": 5,
   "id": "c6be7e90-c551-44ca-bedd-f5236e09dc70",
   "metadata": {},
   "outputs": [
    {
     "name": "stdout",
     "output_type": "stream",
     "text": [
      "1: 43\n",
      "2: 90\n",
      "3: 105\n",
      "4: 128\n",
      "5: 134\n"
     ]
    }
   ],
   "source": [
    "#  load data \n",
    "data_by_levels = load_data_prm800k(data_dir)\n",
    "\n",
    "# load random_seeds     \n",
    "# random_seeds = np.loadtxt(\"random_seeds.txt\").astype(\"int64\")\n",
    "# random_seeds = [int(seed) for seed in random_seeds]"
   ]
  },
  {
   "cell_type": "code",
   "execution_count": 6,
   "id": "831c2a5d-a3be-4679-9f20-936175aea15b",
   "metadata": {},
   "outputs": [
    {
     "name": "stdout",
     "output_type": "stream",
     "text": [
      "INFO 05-15 17:31:23 __init__.py:207] Automatically detected platform cuda.\n",
      "WARNING 05-15 17:31:23 config.py:2448] Casting torch.bfloat16 to torch.float16.\n",
      "INFO 05-15 17:31:31 config.py:549] This model supports multiple tasks: {'embed', 'classify', 'score', 'generate', 'reward'}. Defaulting to 'generate'.\n",
      "INFO 05-15 17:31:31 llm_engine.py:234] Initializing a V0 LLM engine (v0.7.3) with config: model='/groups/kjun/tnn/datasets//Llama-3.2-1B-Instruct', speculative_config=None, tokenizer='/groups/kjun/tnn/datasets//Llama-3.2-1B-Instruct', skip_tokenizer_init=False, tokenizer_mode=auto, revision=None, override_neuron_config=None, tokenizer_revision=None, trust_remote_code=False, dtype=torch.float16, max_seq_len=5000, download_dir=None, load_format=LoadFormat.AUTO, tensor_parallel_size=1, pipeline_parallel_size=1, disable_custom_all_reduce=False, quantization=None, enforce_eager=False, kv_cache_dtype=auto,  device_config=cuda, decoding_config=DecodingConfig(guided_decoding_backend='xgrammar'), observability_config=ObservabilityConfig(otlp_traces_endpoint=None, collect_model_forward_time=False, collect_model_execute_time=False), seed=0, served_model_name=/groups/kjun/tnn/datasets//Llama-3.2-1B-Instruct, num_scheduler_steps=1, multi_step_stream_outputs=True, enable_prefix_caching=False, chunked_prefill_enabled=False, use_async_output_proc=True, disable_mm_preprocessor_cache=False, mm_processor_kwargs=None, pooler_config=None, compilation_config={\"splitting_ops\":[],\"compile_sizes\":[],\"cudagraph_capture_sizes\":[256,248,240,232,224,216,208,200,192,184,176,168,160,152,144,136,128,120,112,104,96,88,80,72,64,56,48,40,32,24,16,8,4,2,1],\"max_capture_size\":256}, use_cached_outputs=False, \n",
      "INFO 05-15 17:31:32 cuda.py:178] Cannot use FlashAttention-2 backend for Volta and Turing GPUs.\n",
      "INFO 05-15 17:31:32 cuda.py:226] Using XFormers backend.\n",
      "INFO 05-15 17:31:32 model_runner.py:1110] Starting to load model /groups/kjun/tnn/datasets//Llama-3.2-1B-Instruct...\n"
     ]
    },
    {
     "data": {
      "application/vnd.jupyter.widget-view+json": {
       "model_id": "5fe474868da04623af249f876f3cdba2",
       "version_major": 2,
       "version_minor": 0
      },
      "text/plain": [
       "Loading safetensors checkpoint shards:   0% Completed | 0/1 [00:00<?, ?it/s]\n"
      ]
     },
     "metadata": {},
     "output_type": "display_data"
    },
    {
     "name": "stdout",
     "output_type": "stream",
     "text": [
      "INFO 05-15 17:31:34 model_runner.py:1115] Loading model weights took 2.3185 GB\n",
      "INFO 05-15 17:31:35 worker.py:267] Memory profiling takes 0.48 seconds\n",
      "INFO 05-15 17:31:35 worker.py:267] the current vLLM instance can use total_gpu_memory (31.73GiB) x gpu_memory_utilization (0.70) = 22.21GiB\n",
      "INFO 05-15 17:31:35 worker.py:267] model weights take 2.32GiB; non_torch_memory takes 0.09GiB; PyTorch activation peak memory takes 1.19GiB; the rest of the memory reserved for KV Cache is 18.62GiB.\n",
      "INFO 05-15 17:31:35 executor_base.py:111] # cuda blocks: 38125, # CPU blocks: 8192\n",
      "INFO 05-15 17:31:35 executor_base.py:116] Maximum concurrency for 5000 tokens per request: 122.00x\n",
      "INFO 05-15 17:31:36 model_runner.py:1434] Capturing cudagraphs for decoding. This may lead to unexpected consequences if the model is not static. To run the model in eager mode, set 'enforce_eager=True' or use '--enforce-eager' in the CLI. If out-of-memory error occurs during cudagraph capture, consider decreasing `gpu_memory_utilization` or switching to eager mode. You can also reduce the `max_num_seqs` as needed to decrease memory usage.\n"
     ]
    },
    {
     "name": "stderr",
     "output_type": "stream",
     "text": [
      "Capturing CUDA graph shapes: 100%|██████████| 35/35 [00:15<00:00,  2.27it/s]"
     ]
    },
    {
     "name": "stdout",
     "output_type": "stream",
     "text": [
      "INFO 05-15 17:31:52 model_runner.py:1562] Graph capturing finished in 15 secs, took 0.13 GiB\n",
      "INFO 05-15 17:31:52 llm_engine.py:436] init engine (profile, create kv cache, warmup model) took 17.84 seconds\n"
     ]
    },
    {
     "name": "stderr",
     "output_type": "stream",
     "text": [
      "\n"
     ]
    },
    {
     "name": "stdout",
     "output_type": "stream",
     "text": [
      "#--- memory: 20.959694862365723\n",
      "#--- memory: 0.0\n"
     ]
    }
   ],
   "source": [
    "# baseline: gpu_memory_utilization=0.2\n",
    "# use the standard model \n",
    "llm_vllm = LLM(\n",
    "        model = llm_tokenizer_dir,\n",
    "        tensor_parallel_size=1,\n",
    "        gpu_memory_utilization = 0.7,  # Utilize 50% of GPU memory\n",
    "        # enable_prefix_caching=True,  # V100 doesn't support enable_prefix_caching \n",
    "        # enable_chunked_prefill=False, # and enable_chunked_prefill\n",
    "        max_model_len = 5000,\n",
    "        dtype = \"float16\",\n",
    "        seed = 0)\n",
    "    \n",
    "    # # use the gguf quantized model \n",
    "    # llm_regular = LLM(\n",
    "    #     model = llm_dir,\n",
    "    #     tokenizer = llm_tokenizer_dir,\n",
    "    #     tensor_parallel_size=1,\n",
    "    #     gpu_memory_utilization = 0.2,  # Utilize 50% of GPU memory\n",
    "    #     max_model_len = 5000,\n",
    "    #     dtype = \"float16\",\n",
    "    #     seed = 123)\n",
    "\n",
    "\n",
    "gc.collect();torch.cuda.empty_cache();\n",
    "print('#--- memory:', torch.cuda.memory_allocated(0)/(1024**3))\n",
    "print('#--- memory:', torch.cuda.memory_allocated(1)/(1024**3))"
   ]
  },
  {
   "cell_type": "code",
   "execution_count": 7,
   "id": "e6491650-0cc7-4363-bbb1-b8fc9c08f72d",
   "metadata": {},
   "outputs": [
    {
     "name": "stdout",
     "output_type": "stream",
     "text": [
      "#--- memory: 20.959694862365723\n"
     ]
    }
   ],
   "source": [
    "tokenizer = AutoTokenizer.from_pretrained(llm_tokenizer_dir)\n",
    "llm_tf = AutoModelForCausalLM.from_pretrained(llm_tokenizer_dir).to(\"cuda:1\")\n",
    "# model_regular.generation_config.pad_token_id = tokenizer.eos_token_id\n",
    "gc.collect();torch.cuda.empty_cache();\n",
    "print('#--- memory:', torch.cuda.memory_allocated(0)/(1024**3))"
   ]
  },
  {
   "cell_type": "code",
   "execution_count": 49,
   "id": "4fba647a-5dd0-4ab0-8d4a-e737e6f8de80",
   "metadata": {},
   "outputs": [],
   "source": [
    "llm_tf.eval()\n",
    "tokenizer.pad_token = tokenizer.eos_token\n",
    "tokenizer.padding_side = 'right'\n"
   ]
  },
  {
   "cell_type": "code",
   "execution_count": 9,
   "id": "82257a1e-d2d6-4ac4-9e2f-22dff8b23faf",
   "metadata": {},
   "outputs": [
    {
     "data": {
      "application/vnd.jupyter.widget-view+json": {
       "model_id": "87bb1da6d8c04c08bb5e5a11e7df94a6",
       "version_major": 2,
       "version_minor": 0
      },
      "text/plain": [
       "Loading checkpoint shards:   0%|          | 0/4 [00:00<?, ?it/s]"
      ]
     },
     "metadata": {},
     "output_type": "display_data"
    }
   ],
   "source": [
    "prm = RLHFFlow(model_path=prm_tokenizer_dir, device_map='cuda:2')"
   ]
  },
  {
   "cell_type": "code",
   "execution_count": 10,
   "id": "9c694118-92ff-4bca-933f-8510663c117c",
   "metadata": {},
   "outputs": [
    {
     "ename": "NameError",
     "evalue": "name 'stop' is not defined",
     "output_type": "error",
     "traceback": [
      "\u001b[0;31m---------------------------------------------------------------------------\u001b[0m",
      "\u001b[0;31mNameError\u001b[0m                                 Traceback (most recent call last)",
      "Cell \u001b[0;32mIn[10], line 1\u001b[0m\n\u001b[0;32m----> 1\u001b[0m \u001b[43mstop\u001b[49m\n",
      "\u001b[0;31mNameError\u001b[0m: name 'stop' is not defined"
     ]
    }
   ],
   "source": [
    "stop"
   ]
  },
  {
   "cell_type": "code",
   "execution_count": 11,
   "id": "04ca9ccb-fb08-4856-b938-4e37f5acd7e8",
   "metadata": {},
   "outputs": [],
   "source": [
    "\n",
    "from core import diverse_reward_search\n",
    "from core import diverse_reward_search_v12\n",
    "\n",
    "import importlib\n"
   ]
  },
  {
   "cell_type": "code",
   "execution_count": 59,
   "id": "7bfaee2c-62cb-4ac2-953c-a276597aa792",
   "metadata": {},
   "outputs": [
    {
     "name": "stdout",
     "output_type": "stream",
     "text": [
      "num_questions = 2\n",
      "num_trials = 1\n",
      "diverse_search_v12\n",
      "\n",
      "-> 0\n",
      "\n",
      "-> after filtered completions: len = 7\n",
      "b_idx = 0\n",
      "## Step 1: Express the first set of points in terms of a single variable.\n",
      "Let's express $y$ and $z$ in terms of $x$ using the given equations: \n",
      "\\[y = \\frac{2}{3}x\\]\n",
      "\\[z = -\\frac{2}{3}x\\]\n",
      "\n",
      "\n",
      "b_idx = 1\n",
      "## Step 1: Identify the direction vectors of the lines\n",
      "\n",
      "\n",
      "b_idx = 2\n",
      "## Step 1: Find the direction vectors of the two lines\n",
      "To find the angle between the lines, we first need to find their direction vectors. The direction vector of the first line is (2, 3, -1) and the direction vector of the second line is (6, -1, -4).\n",
      "\n",
      "\n",
      "b_idx = 3\n",
      "## Step 1: Express the first equation in terms of y\n",
      "From the given equation $2x = 3y$, we can express y in terms of x as $y = \\frac{2}{3}x$.\n",
      "\n",
      "\n",
      "b_idx = 4\n",
      "## Step 1: Identify the graph's characteristics\n",
      "The graph of $y = a \\sin (bx + c) + d$ for some positive constants $a,$ $b,$ $c,$ and $d$ is a sinusoidal function with amplitude $a$, vertical shift $d$, and period $\\frac{2\\pi}{b}$. The graph is symmetric about the origin and passes through the point $(3, 3)$.\n",
      "\n",
      "\n",
      "b_idx = 5\n",
      "## Step 1: The sine function is periodic with a period of $2\\pi$.\n",
      "To find the smallest possible value of $c$ in the given function $y = a \\sin (bx + c) + d,$ we need to analyze the graph of the function. The graph is a sinusoidal curve with amplitude $a$, period $\\frac{2\\pi}{b}$, and vertical shift $d$.\n",
      "\n",
      "\n",
      "b_idx = 6\n",
      "## Step 1:  The graph is a sinusoidal function of the form $y = a \\sin (bx + c) + d$.\n",
      "## Step 2:  Since the graph has a period of $2\\pi$, we know that the function repeats itself every $2\\pi$ units.\n",
      "## Step 3:  Looking at the given graph, we see that the function has a minimum point midway between the maximum and minimum points.\n",
      "## Step 4:  In the function $y = 2 \\sin (3x + \\pi) + 1$, the minimum point occurs at $x = -\\frac{\\pi}{6}$. This indicates that the period of the function is $\\frac{2\\pi}{3}$.\n",
      "## Step 5:  As the period is directly proportional to the coefficient of $x$ (in this case, $b$), the value of $b$ in the given function is $\\frac{1}{3}$.\n",
      "## Step 6:  The smallest possible value of $c$ can be found by considering the phase shift of the function.\n",
      "## Step 7:  The phase shift of the function is $\\frac{c}{b}$, and since the minimum point of the function is at $x = -\\frac{\\pi}{6}$, we have $\\frac{c}{b} = \\frac{\\pi}{6}$.\n",
      "## Step 8:  Given that $b = \\frac{1}{3}$, we can solve for the smallest possible value of $c$ by multiplying both sides of the equation by $b$, giving us $c = \\frac{\\pi}{6} \\cdot \\frac{1}{3}$.\n",
      "## Step 9:  Therefore, the smallest possible value of $c$ is $\\frac{\\pi}{18}$.\n",
      "\n",
      "\n",
      "[[617.14496, 600.525, 607.57886, 612.26245], [1069.7637, 1064.6643, 1176.7324]]\n",
      "[[8.337581, 12.602069, 8.126249, 9.496895], [10.44343, 10.488216, 4.862874]]\n",
      "selected_idxes = [2, 1]\n",
      "selected_idxes = [2, 0]\n",
      "\n",
      "-> 1\n",
      "\n",
      "-> after filtered completions: len = 6\n",
      "b_idx = 0\n",
      "## Step 1: Find the direction vectors of the two lines\n",
      "To find the angle between the lines, we first need to find their direction vectors. The direction vector of the first line is (2, 3, -1) and the direction vector of the second line is (6, -1, -4).\n",
      "\n",
      "## Step 2: Calculate the dot product of the direction vectors\n",
      "The dot product of two vectors (a, b, c) and (d, e, f) is ad + be + cf. So, the dot product of the direction vectors is (2)(6) + (3)(-1) + (-1)(-4) = 12 - 3 + 4 = 13.\n",
      "\n",
      "\n",
      "b_idx = 1\n",
      "## Step 1: Identify the direction vectors of the lines\n",
      "\n",
      "To find the angle between the two lines, we first need to identify their direction vectors. The direction vector of the first line is given by the coefficients of x, y, and z, which are (2, 3, -1). The direction vector of the second line is given by the coefficients of x, y, and z, which are (6, 1, -4).\n",
      "\n",
      "\n",
      "b_idx = 2\n",
      "## Step 1: Find the direction vectors of the two lines\n",
      "To find the angle between the lines, we first need to find their direction vectors. The direction vector of the first line is (2, 3, -1) and the direction vector of the second line is (6, -1, -4).\n",
      "\n",
      "## Step 2: Calculate the dot product of the direction vectors\n",
      "The dot product of two vectors (a, b, c) and (d, e, f) is ad + be + cf. In this case, the dot product of the direction vectors is (2)(6) + (3)(-1) + (-1)(-4) = 12 - 3 + 4 = 13.\n",
      "\n",
      "\n",
      "b_idx = 3\n",
      "## Step 1: Identify the direction vectors of the lines\n",
      "\n",
      "To find the angle between two lines, we need to identify their direction vectors. \n",
      "\n",
      "\n",
      "b_idx = 4\n",
      "## Step 1: Identify the graph's characteristics\n",
      "The graph of $y = a \\sin (bx + c) + d$ for some positive constants $a,$ $b,$ $c,$ and $d$ is a sinusoidal function with amplitude $a$, vertical shift $d$, and period $\\frac{2\\pi}{b}$. The graph is symmetric about the origin and passes through the point $(3, 3)$.\n",
      "\n",
      "## Step 2: Determine the period of the graph\n",
      "Since the graph passes through the point $(3, 3)$, the period of the function is $\\frac{2\\pi}{b}$. The period is equal to $\\frac{2\\pi}{b}$ for any sinusoidal function. Therefore, $\\frac{2\\pi}{b} = 6\\pi$, and $b = \\frac{1}{3}$.\n",
      "\n",
      "\n",
      "b_idx = 5\n",
      "## Step 1: Identify the graph's characteristics\n",
      "The graph of $y = a \\sin (bx + c) + d$ for some positive constants $a,$ $b,$ $c,$ and $d$ is a sinusoidal function with amplitude $a$, vertical shift $d$, and period $\\frac{2\\pi}{b}$. The graph is symmetric about the origin and passes through the point $(3, 3)$.\n",
      "\n",
      "## Step 2: Determine the period of the graph\n",
      "The period of the graph is the distance between two consecutive points that have the same y-coordinate. In this case, the y-coordinates of the points that have the same y-coordinate are $(1, 3), (3, 3), (-1, 3), (-3, 3), (1, 1),$ and $(3, 1)$. The periods of the four points with the same y-coordinates are $\\frac{2\\pi}{1} = 2\\pi$ and $\\frac{2\\pi}{3}$.\n",
      "\n",
      "\n",
      "[[611.1592, 611.9811, 613.78577, 609.0434], [1108.2859, 1125.7411]]\n",
      "[[5.1249228, 6.89323, 5.1161847, 10.999046], [7.5845776, 6.9189434]]\n",
      "selected_idxes = [2, 3]\n",
      "selected_idxes = None\n",
      "\n",
      "-> 2\n",
      "\n",
      "-> after filtered completions: len = 8\n",
      "b_idx = 0\n",
      "## Step 1: Find the direction vectors of the two lines\n",
      "To find the angle between the lines, we first need to find their direction vectors. The direction vector of the first line is (2, 3, -1) and the direction vector of the second line is (6, -1, -4).\n",
      "\n",
      "## Step 2: Calculate the dot product of the direction vectors\n",
      "The dot product of two vectors (a, b, c) and (d, e, f) is ad + be + cf. In this case, the dot product of the direction vectors is (2)(6) + (3)(-1) + (-1)(-4) = 12 - 3 + 4 = 13.\n",
      "\n",
      "## Step 3: Calculate the magnitude of the direction vectors\n",
      "The magnitude of a vector (a, b, c) is sqrt(a^2 + b^2 + c^2). For the first direction vector, the magnitude is sqrt(2^2 + 3^2 + (-1)^2) = sqrt(4 + 9 + 1) = sqrt(14). For the second direction vector, the magnitude is sqrt(6^2 + (-1)^2 + (-4)^2) = sqrt(36 + 1 + 16) = sqrt(53).\n",
      "\n",
      "\n",
      "b_idx = 1\n",
      "## Step 1: Identify the direction vectors of the lines\n",
      "\n",
      "To find the angle between two lines, we need to identify their direction vectors. \n",
      "\n",
      "For the first line, the direction vector can be found by taking the coefficients of $y$ and $z$, which are $(3, -2, 0)$. Since $x$ is common to both equations, we ignore it.\n",
      "\n",
      "\n",
      "b_idx = 2\n",
      "## Step 1: Find the direction vectors of the two lines\n",
      "To find the angle between the lines, we first need to find their direction vectors. The direction vector of the first line is (2, 3, -1) and the direction vector of the second line is (6, -1, -4).\n",
      "\n",
      "## Step 2: Calculate the dot product of the direction vectors\n",
      "The dot product of two vectors (a, b, c) and (d, e, f) is ad + be + cf. In this case, the dot product of the direction vectors is (2)(6) + (3)(-1) + (-1)(-4) = 12 - 3 + 4 = 13.\n",
      "\n",
      "## Step 3: Calculate the magnitudes of the direction vectors\n",
      "The magnitude of a vector (a, b, c) is sqrt(a^2 + b^2 + c^2). The magnitude of the first direction vector is sqrt(2^2 + 3^2 + (-1)^2) = sqrt(4 + 9 + 1) = sqrt(14). The magnitude of the second direction vector is sqrt(6^2 + (-1)^2 + (-4)^2) = sqrt(36 + 1 + 16) = sqrt(53).\n",
      "\n",
      "\n",
      "b_idx = 3\n",
      "## Step 1: Identify the direction vectors of the lines\n",
      "\n",
      "To find the angle between two lines, we need to identify their direction vectors. \n",
      "\n",
      "For the first line, the direction vector can be found from the coefficients of x, y, and z, which are 2, 3, and -1 respectively.\n",
      "\n",
      "\n",
      "b_idx = 4\n",
      "## Step 1: Identify the graph's characteristics\n",
      "The graph of $y = a \\sin (bx + c) + d$ for some positive constants $a,$ $b,$ $c,$ and $d$ is a sinusoidal function with amplitude $a$, vertical shift $d$, and period $\\frac{2\\pi}{b}$. The graph is symmetric about the origin and passes through the point $(3, 3)$.\n",
      "\n",
      "## Step 2: Determine the period of the graph\n",
      "Since the graph passes through the point $(3, 3)$, the period of the function is $\\frac{2\\pi}{b}$. The period is equal to $\\frac{2\\pi}{b}$ for any sinusoidal function. Therefore, $\\frac{2\\pi}{b} = 6\\pi$, and $b = \\frac{1}{3}$.\n",
      "\n",
      "## Step 3: Determine the smallest possible value of c\n",
      "Since the graph is symmetric about the origin, the function can be rewritten as $y = a \\sin (3x) + 1$. The smallest possible value of $c$ is the smallest phase shift, which is the average of the horizontal shifts of the minimum and maximum points of the graph. In this case, the minimum and maximum points of the graph occur at $x = -\\frac{\\pi}{6}$ and $x = -\\frac{5\\pi}{6}$. The average of these values is $\\frac{-\\frac{\\pi}{6} - \\frac{5\\pi}{6}}{2} = -\\frac{2\\pi}{3}$. Therefore, the smallest possible value of $c$ is $-\\frac{2\\pi}{3}$.\n",
      "\n",
      "\n",
      "b_idx = 5\n",
      "## Step 1: Identify the graph's characteristics\n",
      "The graph of $y = a \\sin (bx + c) + d$ for some positive constants $a,$ $b,$ $c,$ and $d$ is a sinusoidal function with amplitude $a$, vertical shift $d$, and period $\\frac{2\\pi}{b}$. The graph is symmetric about the origin and passes through the point $(3, 3)$.\n",
      "\n",
      "## Step 2: Determine the period of the graph\n",
      "The period of the graph is the distance between two consecutive points that have the same y-coordinate. In this case, the y-coordinates of the points that have the same y-coordinate are $(1, 3), (3, 3), (-1, 3), (-3, 3), (1, 1),$ and $(3, 1)$. The periods of the four points with the same y-coordinates are $\\frac{2\\pi}{1} = 2\\pi$ and $\\frac{2\\pi}{3}$.\n",
      "\n",
      "## Step 3: Find the smallest possible value of c\n",
      "Since the graph passes through the point $(3, 3)$, the period of the graph must be less than or equal to $\\frac{2\\pi}{3}$. The smallest possible value of $c$ is the smallest value of $c$ that makes the equation $y = a \\sin (bx + c) + d$ have a period of $\\frac{2\\pi}{3}$.\n",
      "\n",
      "\n",
      "b_idx = 6\n",
      "## Step 1: Identify the graph's characteristics\n",
      "The graph of $y = a \\sin (bx + c) + d$ for some positive constants $a,$ $b,$ $c,$ and $d$ is a sinusoidal function with amplitude $a$, vertical shift $d$, and period $\\frac{2\\pi}{b}$. The graph is symmetric about the origin and passes through the point $(3, 3)$.\n",
      "\n",
      "## Step 2: Determine the period of the graph\n",
      "Since the graph passes through the point $(3, 3)$, the period of the function is $\\frac{2\\pi}{b}$. The period is equal to $\\frac{2\\pi}{b}$ for any sinusoidal function. Therefore, $\\frac{2\\pi}{b} = 6\\pi$, and $b = \\frac{1}{3}$.\n",
      "\n",
      "## Step 3: Determine the phase shift of the graph\n",
      "Since the graph is symmetric about the origin and passes through the point $(3, 3)$, the phase shift of the graph is $-\\frac{c}{b}$. We know that the graph passes through the point $(3, 3)$, so the negative of the x-coordinate of the point $(3, 3)$ must be $c$. Since the graph is symmetric about the origin, the x-coordinate of the point $(3, 3)$ must be $\\frac{c}{b} + 3$. We can equate these two expressions to solve for $c$.\n",
      "\n",
      "\n",
      "b_idx = 7\n",
      "## Step 1: Identify the graph's characteristics\n",
      "The graph of $y = a \\sin (bx + c) + d$ for some positive constants $a,$ $b,$ $c,$ and $d$ is a sinusoidal function with amplitude $a$, vertical shift $d$, and period $\\frac{2\\pi}{b}$. The graph is symmetric about the origin and passes through the point $(3, 3)$.\n",
      "\n",
      "## Step 2: Determine the period of the graph\n",
      "The period of the graph is the distance between two consecutive points that have the same y-coordinate. In this case, the y-coordinates of the points that have the same y-coordinate are $(1, 3), (3, 3), (-1, 3), (-3, 3), (1, 1),$ and $(3, 1)$. The periods of the four points with the same y-coordinates are $\\frac{2\\pi}{1} = 2\\pi$ and $\\frac{2\\pi}{3}$.\n",
      "\n",
      "## Step 3: Analyze the graph's period\n",
      "Since the graph passes through the point $(3, 3)$, we can conclude that the period of the graph is $\\frac{2\\pi}{3}$.\n",
      "\n",
      "\n",
      "Time taken: 18.473730087280273 seconds\n"
     ]
    }
   ],
   "source": [
    "importlib.reload(diverse_reward_search)\n",
    "importlib.reload(diverse_reward_search_v12)\n",
    "\n",
    "# general params\n",
    "config = Config()\n",
    "config.n = 4\n",
    "config.beam_width = 2\n",
    "config.lookahead = 0\n",
    "config.num_depths = 3\n",
    "config.filter_duplicates = True\n",
    "\n",
    "# diverse_select params\n",
    "config.lam = 10\n",
    "config.normalize_embeds = True\n",
    "\n",
    "config.ds_beta = 0\n",
    "config.ds_alpha = 1.0\n",
    "\n",
    "level = 4\n",
    "num_questions = len(data_by_levels[level])\n",
    "num_questions = 2\n",
    "num_trials = 1\n",
    "print(f\"num_questions = {num_questions}\")\n",
    "print(f\"num_trials = {num_trials}\")\n",
    "\n",
    "# get batch of questions\n",
    "batch_of_questions = [data_by_levels[level][q_idx]['problem'] for q_idx in range(num_questions)]\n",
    "\n",
    "torch.manual_seed(100000+0)\n",
    "torch.cuda.manual_seed(100000+0)\n",
    "\n",
    "start_time = time.time()\n",
    "results = diverse_reward_search.diverse_search(batch_of_questions, config, llm_vllm, llm_tf, tokenizer, prm)\n",
    "print(f\"Time taken: {time.time() - start_time} seconds\")"
   ]
  },
  {
   "cell_type": "code",
   "execution_count": 19,
   "id": "002d223e-c9a3-4f34-bba9-2a9fc1a939f1",
   "metadata": {},
   "outputs": [
    {
     "name": "stdout",
     "output_type": "stream",
     "text": [
      "#--- memory: 6.1091742515563965\n"
     ]
    }
   ],
   "source": [
    "gc.collect();torch.cuda.empty_cache();\n",
    "print('#--- memory:', torch.cuda.memory_allocated(1)/(1024**3))"
   ]
  },
  {
   "cell_type": "code",
   "execution_count": null,
   "id": "25115a57-1b02-47e4-9a72-f4cf4946917d",
   "metadata": {},
   "outputs": [],
   "source": [
    "# print(len(beam_results))\n",
    "# pprint.pprint(results)\n",
    "for items in results['completions']:\n",
    "    print(len(items))\n",
    "# print(results['completions'])"
   ]
  },
  {
   "cell_type": "code",
   "execution_count": null,
   "id": "cff0703d-524a-424f-91f9-982bb863858b",
   "metadata": {},
   "outputs": [],
   "source": [
    "# print(len(beam_results))\n",
    "# pprint.pprint(results)\n",
    "print(results['completions'])"
   ]
  }
 ],
 "metadata": {
  "kernelspec": {
   "display_name": "py311",
   "language": "python",
   "name": "py311"
  },
  "language_info": {
   "codemirror_mode": {
    "name": "ipython",
    "version": 3
   },
   "file_extension": ".py",
   "mimetype": "text/x-python",
   "name": "python",
   "nbconvert_exporter": "python",
   "pygments_lexer": "ipython3",
   "version": "3.11.11"
  }
 },
 "nbformat": 4,
 "nbformat_minor": 5
}
