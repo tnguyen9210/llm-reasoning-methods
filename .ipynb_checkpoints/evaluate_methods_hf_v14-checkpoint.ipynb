{
 "cells": [
  {
   "cell_type": "code",
   "execution_count": 1,
   "id": "51f10c28-3f2d-47c0-ace3-b7a5d1463ec4",
   "metadata": {},
   "outputs": [],
   "source": [
    "'''\n",
    "Evaluate the performance of search algorithms \n",
    "Collect scores across all prompts and trials, and compute the overall statistics.\n",
    "'''\n",
    "\n",
    "import os, psutil, gc\n",
    "import time \n",
    "import json\n",
    "import pprint\n",
    "\n",
    "from collections import defaultdict\n",
    "import random\n",
    "\n",
    "import numpy as np\n",
    "np.set_printoptions(precision=4)\n",
    "from scipy.stats import ttest_rel"
   ]
  },
  {
   "cell_type": "code",
   "execution_count": 2,
   "id": "e4cae36f-3789-45cf-9533-1842d3c71779",
   "metadata": {},
   "outputs": [],
   "source": [
    "from sal.config import Config\n",
    "\n",
    "from datasets import load_dataset\n",
    "\n",
    "# from core import best_of_n\n",
    "from utils.load_data import load_data_prm800k\n",
    "from utils import grader \n",
    "from utils import grader2\n",
    "from utils import parser"
   ]
  },
  {
   "cell_type": "code",
   "execution_count": 3,
   "id": "e24dfa33-ee28-4654-b0e1-24a1c4eff608",
   "metadata": {},
   "outputs": [],
   "source": [
    "# base_dir\n",
    "base_dir = '/groups/kjun/tnn/datasets/'\n",
    "\n",
    "# dataset path\n",
    "data_dir = base_dir + \"/prm800k/math_splits\"\n",
    "\n",
    "# llm and prm path\n",
    "llm_dir = base_dir + \"/Llama-3.2-1B-Instruct-GGUF/Llama-3.2-1B-Instruct.Q4_K_M.gguf\"\n",
    "prm_dir = base_dir + \"/Llama3.1-8B-PRM-Deepseek-Data-GGUF/Llama3.1-8B-PRM-Deepseek-Data.Q4_K_M.gguf\"\n",
    "\n",
    "llm_tokenizer_dir = base_dir + \"/Llama-3.2-1B-Instruct\"\n",
    "prm_tokenizer_dir = base_dir + \"/Llama3.1-8B-PRM-Deepseek-Data\""
   ]
  },
  {
   "cell_type": "code",
   "execution_count": 4,
   "id": "81a4e1bf-b56b-4874-98cf-0ed225567369",
   "metadata": {},
   "outputs": [
    {
     "name": "stdout",
     "output_type": "stream",
     "text": [
      "1: 43\n",
      "2: 90\n",
      "3: 105\n",
      "4: 128\n",
      "5: 134\n"
     ]
    }
   ],
   "source": [
    "#  load data \n",
    "data_by_levels = load_data_prm800k(data_dir)\n",
    "\n",
    "\n",
    "# ds_completions = load_completions(completions_dir)\n",
    "\n",
    "# load random_seeds     \n",
    "# random_seeds = np.loadtxt(\"random_seeds.txt\").astype(\"int64\")\n",
    "# random_seeds = [int(seed) for seed in random_seeds]"
   ]
  },
  {
   "cell_type": "code",
   "execution_count": 5,
   "id": "6fe95daa-90cc-4172-86b0-85d81d734248",
   "metadata": {},
   "outputs": [],
   "source": [
    "import signal"
   ]
  },
  {
   "cell_type": "code",
   "execution_count": 12,
   "id": "ecbae5bc-cb50-47a5-a8cd-7c5cf4fc5d40",
   "metadata": {},
   "outputs": [
    {
     "data": {
      "application/vnd.jupyter.widget-view+json": {
       "model_id": "a4507f6ba63b40259d18a30f723d2315",
       "version_major": 2,
       "version_minor": 0
      },
      "text/plain": [
       "Generating train split: 0 examples [00:00, ? examples/s]"
      ]
     },
     "metadata": {},
     "output_type": "display_data"
    },
    {
     "data": {
      "application/vnd.jupyter.widget-view+json": {
       "model_id": "c50904d0bdbb4463bb78edbb978f0670",
       "version_major": 2,
       "version_minor": 0
      },
      "text/plain": [
       "Filter:   0%|          | 0/128 [00:00<?, ? examples/s]"
      ]
     },
     "metadata": {},
     "output_type": "display_data"
    },
    {
     "data": {
      "application/vnd.jupyter.widget-view+json": {
       "model_id": "d69e9539bfa04c6abe240ac06bedb6bc",
       "version_major": 2,
       "version_minor": 0
      },
      "text/plain": [
       "Generating train split: 0 examples [00:00, ? examples/s]"
      ]
     },
     "metadata": {},
     "output_type": "display_data"
    },
    {
     "data": {
      "application/vnd.jupyter.widget-view+json": {
       "model_id": "518a90a622764551ae52e5906416ae2a",
       "version_major": 2,
       "version_minor": 0
      },
      "text/plain": [
       "Filter:   0%|          | 0/128 [00:00<?, ? examples/s]"
      ]
     },
     "metadata": {},
     "output_type": "display_data"
    },
    {
     "name": "stderr",
     "output_type": "stream",
     "text": [
      "<string>:1: SyntaxWarning: 'dict' object is not callable; perhaps you missed a comma?\n",
      "<string>:1: SyntaxWarning: 'dict' object is not callable; perhaps you missed a comma?\n",
      "<string>:1: SyntaxWarning: 'dict' object is not callable; perhaps you missed a comma?\n",
      "<string>:1: SyntaxWarning: 'dict' object is not callable; perhaps you missed a comma?\n",
      "<string>:1: SyntaxWarning: 'dict' object is not callable; perhaps you missed a comma?\n",
      "<string>:1: SyntaxWarning: 'dict' object is not callable; perhaps you missed a comma?\n"
     ]
    },
    {
     "data": {
      "application/vnd.jupyter.widget-view+json": {
       "model_id": "e9fb8a6439c447db8a88c781e5455a6b",
       "version_major": 2,
       "version_minor": 0
      },
      "text/plain": [
       "Generating train split: 0 examples [00:00, ? examples/s]"
      ]
     },
     "metadata": {},
     "output_type": "display_data"
    },
    {
     "data": {
      "application/vnd.jupyter.widget-view+json": {
       "model_id": "0a5e3385def040efbb5ccaa89f8bddc7",
       "version_major": 2,
       "version_minor": 0
      },
      "text/plain": [
       "Filter:   0%|          | 0/128 [00:00<?, ? examples/s]"
      ]
     },
     "metadata": {},
     "output_type": "display_data"
    },
    {
     "data": {
      "application/vnd.jupyter.widget-view+json": {
       "model_id": "7aaf1589982b4ec9abbad6bd5d6fc8f5",
       "version_major": 2,
       "version_minor": 0
      },
      "text/plain": [
       "Generating train split: 0 examples [00:00, ? examples/s]"
      ]
     },
     "metadata": {},
     "output_type": "display_data"
    },
    {
     "data": {
      "application/vnd.jupyter.widget-view+json": {
       "model_id": "e3becffb2227401f964c76d77af06baf",
       "version_major": 2,
       "version_minor": 0
      },
      "text/plain": [
       "Filter:   0%|          | 0/128 [00:00<?, ? examples/s]"
      ]
     },
     "metadata": {},
     "output_type": "display_data"
    },
    {
     "name": "stdout",
     "output_type": "stream",
     "text": [
      "passn_correctness: 0.5332 (±0.0221)\n",
      "pass1b_correctness: 0.5586 (±0.0220)\n",
      "naive1b_correctness: 0.4336 (±0.0219)\n",
      "weighted1b_correctness: 0.4414 (±0.0220)\n",
      "maj1b_correctness: 0.4355 (±0.0219)\n"
     ]
    }
   ],
   "source": [
    "class TimeoutException(Exception):\n",
    "    pass\n",
    "\n",
    "def timeout_handler(signum, frame):\n",
    "    raise TimeoutException()\n",
    "\n",
    "def run_with_timeout(fn_extract_answer, fn_grade, completion, gt_answer, timeout=2):\n",
    "    # Set the signal handler for SIGALRM\n",
    "    signal.signal(signal.SIGALRM, timeout_handler)\n",
    "    signal.alarm(timeout)  # Schedule an alarm after `timeout` seconds\n",
    "    try:\n",
    "        c_answer = fn_extract_answer(completion, 'math')\n",
    "        result = fn_grade(c_answer, gt_answer)\n",
    "    except TimeoutException:\n",
    "        print(f\"Timeout: {completion}\")\n",
    "        c_answer = None\n",
    "        result = None\n",
    "    finally:\n",
    "        signal.alarm(0)  # Cancel alarm if function returns early\n",
    "    return c_answer, result\n",
    "\n",
    "def evaluate_correctness_hf(data_dir, level, n=8, limit_budget=False):\n",
    "\n",
    "    # dataset = load_dataset(dataset_name, name=config_name, split=dataset_split, cache_dir=data_dir)\n",
    "    dataset = load_dataset(\"json\", data_files = data_dir, split='train')\n",
    "    dataset_by_level = dataset.filter(lambda example: example['level'] == int(level))\n",
    "\n",
    "    passn_correctness = np.zeros((len(dataset_by_level)))\n",
    "    pass1b_correctness = np.zeros((len(dataset_by_level)))\n",
    "    naive1b_correctness = np.zeros((len(dataset_by_level)))\n",
    "    weighted1b_correctness = np.zeros((len(dataset_by_level)))\n",
    "    maj1b_correctness = np.zeros((len(dataset_by_level)))\n",
    "    for q_idx, data in enumerate(dataset_by_level):\n",
    "        passn_completions = data[\"completions\"][:n]\n",
    "        if limit_budget == True:\n",
    "            completions = data[\"completions\"][:n]\n",
    "        else:\n",
    "            completions = data[\"completions\"]\n",
    "\n",
    "        # gt_answer = data['answer']\n",
    "        gt_cot, gt_answer  = parser.parse_ground_truth(data, 'math')\n",
    "        naive1b_answer = parser.extract_answer(data[f\"pred_naive@{8}\"], 'math')\n",
    "        weighted1b_answer = parser.extract_answer(data[f\"pred_weighted@{8}\"], 'math')\n",
    "        maj1b_answer = parser.extract_answer(data[f\"pred_maj@{8}\"], 'math')\n",
    "        \n",
    "        naive1b_correct = grader2.math_equal(naive1b_answer, gt_answer)\n",
    "        weighted1b_correct = grader2.math_equal(weighted1b_answer, gt_answer)\n",
    "        maj1b_correct = grader2.math_equal(maj1b_answer, gt_answer)\n",
    "\n",
    "        # pass1b_correct = run_with_timeout(_evaluate_pass1b, q_idx, gt_answer, completions, timeout=1)\n",
    "        # pass1b_correct = False\n",
    "        pass1b_correct = False\n",
    "        for cidx, completion in enumerate(completions):\n",
    "            c_answer, is_correct = run_with_timeout(parser.extract_answer, grader2.math_equal, completion, gt_answer)\n",
    "            if is_correct is True: \n",
    "                pass1b_correct = True\n",
    "                break\n",
    "            # c_answer = parser.extract_answer(completion, 'math')\n",
    "            # pass1b_correct = grader2.math_equal(c_answer, gt_answer)\n",
    "            # if pass1b_correct:\n",
    "            #     # print(f\"\\n-> q_idx = {q_idx}\")\n",
    "            #     # print(f\"gt_answer = {gt_answer}\")\n",
    "            #     # print(f\"c_answer = {c_answer}\")\n",
    "            #     break\n",
    "\n",
    "        passn_correct = False\n",
    "        for cidx, completion in enumerate(passn_completions):\n",
    "            c_answer, is_correct = run_with_timeout(parser.extract_answer, grader2.math_equal, completion, gt_answer)\n",
    "            if is_correct is True: \n",
    "                passn_correct = True\n",
    "                break\n",
    "\n",
    "        passn_correctness[q_idx] = passn_correct\n",
    "        pass1b_correctness[q_idx] = pass1b_correct\n",
    "        naive1b_correctness[q_idx] = naive1b_correct\n",
    "        weighted1b_correctness[q_idx] = weighted1b_correct\n",
    "        maj1b_correctness[q_idx] = maj1b_correct\n",
    "\n",
    "    # stop\n",
    "    # passn_correctness = np.mean(passn_correctness)\n",
    "    # pass1b_correctness = np.mean(pass1b_correctness)\n",
    "    # naive1b_correctness = np.mean(naive1b_correctness)\n",
    "    # weighted1b_correctness = np.mean(weighted1b_correctness)\n",
    "    # maj1b_correctness = np.mean(maj1b_correctness)\n",
    "        \n",
    "    return passn_correctness, pass1b_correctness, naive1b_correctness, weighted1b_correctness, maj1b_correctness \n",
    "\n",
    "\n",
    "# general params\n",
    "config = Config()\n",
    "config.agg_strategy = 'last'\n",
    "config.n = 8\n",
    "config.beam_width = 2\n",
    "config.lookahead = 0\n",
    "config.num_iterations = 10\n",
    "config.sort_completed = False\n",
    "\n",
    "# diverse_select params\n",
    "config.lam = 10\n",
    "config.normalize_embeds = True\n",
    "\n",
    "level = '4'\n",
    "# num_questions = len(data_by_levels[level])\n",
    "# num_questions = 1\n",
    "num_trials = 4\n",
    "# print(f\"num_questions = {num_questions}\")\n",
    "\n",
    "sd_config = \"bob--n-8--d-40--level-4--v11\"\n",
    "sd_config = \"mcts--n-8--d-40--lam-10--dalpha-10.0--dbeta-1.0--cpuct-0-2--ppl-True--normalize-True--level-4--v51\"\n",
    "\n",
    "sd_passn_correctness = []\n",
    "sd_pass1b_correctness = []\n",
    "sd_naive1b_correctness = []\n",
    "sd_weighted1b_correctness = []\n",
    "sd_maj1b_correctness = []\n",
    "for trial_idx in range(num_trials):\n",
    "    passn_correctness, pass1b_correctness, naive1b_correctness, weighted1b_correctness, maj1b_correctness = \\\n",
    "        evaluate_correctness_hf(f\"results/{sd_config}--trial-{trial_idx}.jsonl\", level, config.n, limit_budget=False)\n",
    "\n",
    "    sd_passn_correctness.append(passn_correctness)\n",
    "    sd_pass1b_correctness.append(pass1b_correctness)\n",
    "    sd_naive1b_correctness.append(naive1b_correctness)\n",
    "    sd_weighted1b_correctness.append(weighted1b_correctness)\n",
    "    sd_maj1b_correctness.append(maj1b_correctness)\n",
    "\n",
    "sd_passn_correctness = np.concatenate(sd_passn_correctness)\n",
    "sd_pass1b_correctness = np.concatenate(sd_pass1b_correctness)\n",
    "sd_naive1b_correctness = np.concatenate(sd_naive1b_correctness)\n",
    "sd_weighted1b_correctness = np.concatenate(sd_weighted1b_correctness)\n",
    "sd_maj1b_correctness = np.concatenate(sd_maj1b_correctness)\n",
    "\n",
    "sd_passn_correctness_mean = np.mean(sd_passn_correctness)\n",
    "sd_pass1b_correctness_mean = np.mean(sd_pass1b_correctness)\n",
    "sd_naive1b_correctness_mean = np.mean(sd_naive1b_correctness)\n",
    "sd_weighted1b_correctness_mean = np.mean(sd_weighted1b_correctness)\n",
    "sd_maj1b_correctness_mean = np.mean(sd_maj1b_correctness)\n",
    "\n",
    "sd_passn_correctness_std = np.std(sd_passn_correctness, ddof=1)/np.sqrt(num_trials*128) # 128 is number of prompts for level 4 \n",
    "sd_pass1b_correctness_std = np.std(sd_pass1b_correctness, ddof=1)/np.sqrt(num_trials*128)\n",
    "sd_naive1b_correctness_std = np.std(sd_naive1b_correctness, ddof=1)/np.sqrt(num_trials*128)\n",
    "sd_weighted1b_correctness_std = np.std(sd_weighted1b_correctness, ddof=1)/np.sqrt(num_trials*128)\n",
    "sd_maj1b_correctness_std = np.std(sd_maj1b_correctness, ddof=1)/np.sqrt(num_trials*128)\n",
    "\n",
    "# print(sd_passn_correctness)\n",
    "# print(sd_pass1b_correctness)\n",
    "# print(sd_weighted1b_correctness)\n",
    "# print(sd_pass1b_correctness_mean)\n",
    "# print(sd_pass1b_correctness_std)\n",
    "\n",
    "print(f\"passn_correctness: {sd_passn_correctness_mean:0.4f} (\\u00B1{sd_passn_correctness_std:0.4f})\")\n",
    "print(f\"pass1b_correctness: {sd_pass1b_correctness_mean:0.4f} (\\u00B1{sd_pass1b_correctness_std:0.4f})\")\n",
    "print(f\"naive1b_correctness: {sd_naive1b_correctness_mean:0.4f} (\\u00B1{sd_naive1b_correctness_std:0.4f})\")\n",
    "print(f\"weighted1b_correctness: {sd_weighted1b_correctness_mean:0.4f} (\\u00B1{sd_weighted1b_correctness_std:0.4f})\")\n",
    "print(f\"maj1b_correctness: {sd_maj1b_correctness_mean:0.4f} (\\u00B1{sd_maj1b_correctness_std:0.4f})\")"
   ]
  },
  {
   "cell_type": "code",
   "execution_count": null,
   "id": "f99a5334-a853-4ae8-8f20-8a969e5ff81e",
   "metadata": {},
   "outputs": [],
   "source": []
  }
 ],
 "metadata": {
  "kernelspec": {
   "display_name": "py311",
   "language": "python",
   "name": "py311"
  },
  "language_info": {
   "codemirror_mode": {
    "name": "ipython",
    "version": 3
   },
   "file_extension": ".py",
   "mimetype": "text/x-python",
   "name": "python",
   "nbconvert_exporter": "python",
   "pygments_lexer": "ipython3",
   "version": "3.11.11"
  }
 },
 "nbformat": 4,
 "nbformat_minor": 5
}
